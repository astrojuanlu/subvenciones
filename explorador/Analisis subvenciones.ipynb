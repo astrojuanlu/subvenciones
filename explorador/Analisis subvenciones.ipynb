{
 "cells": [
  {
   "cell_type": "code",
   "execution_count": 1,
   "id": "3586584b",
   "metadata": {},
   "outputs": [],
   "source": [
    "import pandas as pd"
   ]
  },
  {
   "cell_type": "code",
   "execution_count": 2,
   "id": "c3444e41",
   "metadata": {},
   "outputs": [
    {
     "data": {
      "text/plain": [
       "'2.0.0'"
      ]
     },
     "execution_count": 2,
     "metadata": {},
     "output_type": "execute_result"
    }
   ],
   "source": [
    "pd.__version__"
   ]
  },
  {
   "cell_type": "code",
   "execution_count": 31,
   "id": "fd29a18c",
   "metadata": {},
   "outputs": [
    {
     "name": "stdout",
     "output_type": "stream",
     "text": [
      "Available memory: 15660417024\n"
     ]
    }
   ],
   "source": [
    "import psutil\n",
    "\n",
    "# Get the system's available memory in bytes\n",
    "available_memory = psutil.virtual_memory().available\n",
    "\n",
    "print(f\"Available memory: {available_memory}\")"
   ]
  },
  {
   "cell_type": "code",
   "execution_count": 8,
   "id": "f7ea9847",
   "metadata": {},
   "outputs": [
    {
     "data": {
      "text/plain": [
       "16.036285400390625"
      ]
     },
     "execution_count": 8,
     "metadata": {},
     "output_type": "execute_result"
    }
   ],
   "source": [
    "available_memory / 1024 / 1024 / 1024"
   ]
  },
  {
   "cell_type": "code",
   "execution_count": 32,
   "id": "6f6fc3fc",
   "metadata": {},
   "outputs": [
    {
     "data": {
      "text/plain": [
       "14.58489990234375"
      ]
     },
     "execution_count": 32,
     "metadata": {},
     "output_type": "execute_result"
    }
   ],
   "source": [
    "available_memory / 1024 / 1024 / 1024"
   ]
  },
  {
   "cell_type": "code",
   "execution_count": 9,
   "id": "bb549b5a",
   "metadata": {},
   "outputs": [
    {
     "name": "stdout",
     "output_type": "stream",
     "text": [
      "Analisis subvenciones.ipynb  \u001b[34mdocs\u001b[m\u001b[m/\r\n",
      "CODE_OF_CONDUCT.md           \u001b[34mexplorador\u001b[m\u001b[m/\r\n",
      "LICENSE                      \u001b[34mfiles\u001b[m\u001b[m/\r\n",
      "README.md                    \u001b[34mfiles.bak\u001b[m\u001b[m/\r\n",
      "README_en.md                 requirements.txt\r\n",
      "\u001b[34mdb\u001b[m\u001b[m/\r\n"
     ]
    }
   ],
   "source": [
    "!ls"
   ]
  },
  {
   "cell_type": "code",
   "execution_count": 11,
   "id": "1343199b",
   "metadata": {},
   "outputs": [],
   "source": [
    "!head -n 500000 files/juridicas-final.csv > files/juridicas-muestra.csv"
   ]
  },
  {
   "cell_type": "code",
   "execution_count": 13,
   "id": "51bc3b8b",
   "metadata": {},
   "outputs": [
    {
     "name": "stdout",
     "output_type": "stream",
     "text": [
      "-rw-r--r--@ 1 juan_cano  staff   228M Apr 24 19:24 files/juridicas-muestra.csv\r\n"
     ]
    }
   ],
   "source": [
    "!ls -lh files/*muestra.csv"
   ]
  },
  {
   "cell_type": "code",
   "execution_count": 19,
   "id": "f451ec80",
   "metadata": {},
   "outputs": [
    {
     "data": {
      "text/html": [
       "<div>\n",
       "<style scoped>\n",
       "    .dataframe tbody tr th:only-of-type {\n",
       "        vertical-align: middle;\n",
       "    }\n",
       "\n",
       "    .dataframe tbody tr th {\n",
       "        vertical-align: top;\n",
       "    }\n",
       "\n",
       "    .dataframe thead th {\n",
       "        text-align: right;\n",
       "    }\n",
       "</style>\n",
       "<table border=\"1\" class=\"dataframe\">\n",
       "  <thead>\n",
       "    <tr style=\"text-align: right;\">\n",
       "      <th></th>\n",
       "      <th>id</th>\n",
       "      <th>id_convocatoria</th>\n",
       "      <th>administracion</th>\n",
       "      <th>departamento</th>\n",
       "      <th>organo</th>\n",
       "      <th>titulo_convocatoria</th>\n",
       "      <th>url_bases_regul</th>\n",
       "      <th>apli_presupuestaria</th>\n",
       "      <th>fecha_concesion</th>\n",
       "      <th>beneficiario</th>\n",
       "      <th>importe</th>\n",
       "      <th>instrumento</th>\n",
       "      <th>ayuda_equivalente</th>\n",
       "      <th>detalles</th>\n",
       "      <th>codigo_bdns</th>\n",
       "      <th>valor_desconocido</th>\n",
       "      <th>id_interna</th>\n",
       "    </tr>\n",
       "  </thead>\n",
       "  <tbody>\n",
       "    <tr>\n",
       "      <th>0</th>\n",
       "      <td>65045185</td>\n",
       "      <td>811910</td>\n",
       "      <td>COMARCA COMUNIDAD DE TERUEL</td>\n",
       "      <td>COMARCA DE COMUNIDAD DE TERUEL</td>\n",
       "      <td>NaN</td>\n",
       "      <td>CONVOCATORIA DE SUBVENCIONES DESTINADAS A AYUN...</td>\n",
       "      <td>https://236ws.dpteruel.es/estatico/boletines/2...</td>\n",
       "      <td>2022-03-3321-46203</td>\n",
       "      <td>24/03/2022</td>\n",
       "      <td>P4407400C AYUNTAMIENTO DE CEDRILLAS</td>\n",
       "      <td>500.0</td>\n",
       "      <td>SUBVENCIÓN Y ENTREGA DINERARIA SIN CONTRAPREST...</td>\n",
       "      <td>500.0</td>\n",
       "      <td>0</td>\n",
       "      <td>610350</td>\n",
       "      <td>10413793</td>\n",
       "      <td>1</td>\n",
       "    </tr>\n",
       "  </tbody>\n",
       "</table>\n",
       "</div>"
      ],
      "text/plain": [
       "         id  id_convocatoria               administracion   \n",
       "0  65045185           811910  COMARCA COMUNIDAD DE TERUEL  \\\n",
       "\n",
       "                     departamento organo   \n",
       "0  COMARCA DE COMUNIDAD DE TERUEL    NaN  \\\n",
       "\n",
       "                                 titulo_convocatoria   \n",
       "0  CONVOCATORIA DE SUBVENCIONES DESTINADAS A AYUN...  \\\n",
       "\n",
       "                                     url_bases_regul apli_presupuestaria   \n",
       "0  https://236ws.dpteruel.es/estatico/boletines/2...  2022-03-3321-46203  \\\n",
       "\n",
       "  fecha_concesion                         beneficiario  importe   \n",
       "0      24/03/2022  P4407400C AYUNTAMIENTO DE CEDRILLAS    500.0  \\\n",
       "\n",
       "                                         instrumento  ayuda_equivalente   \n",
       "0  SUBVENCIÓN Y ENTREGA DINERARIA SIN CONTRAPREST...              500.0  \\\n",
       "\n",
       "   detalles codigo_bdns  valor_desconocido  id_interna  \n",
       "0         0      610350           10413793           1  "
      ]
     },
     "execution_count": 19,
     "metadata": {},
     "output_type": "execute_result"
    }
   ],
   "source": [
    "df = pd.read_csv(\n",
    "    \"files/juridicas-final.csv\",\n",
    "    dtype={\"codigo_bdns\": \"str\"},\n",
    ")\n",
    "df.head(1)"
   ]
  },
  {
   "cell_type": "code",
   "execution_count": 20,
   "id": "8a9addfc",
   "metadata": {},
   "outputs": [
    {
     "data": {
      "text/plain": [
       "3810368"
      ]
     },
     "execution_count": 20,
     "metadata": {},
     "output_type": "execute_result"
    }
   ],
   "source": [
    "len(df)"
   ]
  },
  {
   "cell_type": "code",
   "execution_count": 28,
   "id": "52177d5c",
   "metadata": {},
   "outputs": [
    {
     "data": {
      "text/plain": [
       "17"
      ]
     },
     "execution_count": 28,
     "metadata": {},
     "output_type": "execute_result"
    }
   ],
   "source": [
    "len(df.columns)"
   ]
  },
  {
   "cell_type": "code",
   "execution_count": 29,
   "id": "0053d62b",
   "metadata": {},
   "outputs": [
    {
     "data": {
      "text/plain": [
       "id                       int64\n",
       "id_convocatoria          int64\n",
       "administracion          object\n",
       "departamento            object\n",
       "organo                  object\n",
       "titulo_convocatoria     object\n",
       "url_bases_regul         object\n",
       "apli_presupuestaria     object\n",
       "fecha_concesion         object\n",
       "beneficiario            object\n",
       "importe                float64\n",
       "instrumento             object\n",
       "ayuda_equivalente      float64\n",
       "detalles                 int64\n",
       "codigo_bdns             object\n",
       "valor_desconocido        int64\n",
       "id_interna               int64\n",
       "dtype: object"
      ]
     },
     "execution_count": 29,
     "metadata": {},
     "output_type": "execute_result"
    }
   ],
   "source": [
    "df.dtypes"
   ]
  },
  {
   "cell_type": "code",
   "execution_count": 31,
   "id": "7060a2b0",
   "metadata": {},
   "outputs": [],
   "source": [
    "df[\"fecha_concesion\"] = pd.to_datetime(\n",
    "    df[\"fecha_concesion\"], dayfirst=True\n",
    ")"
   ]
  },
  {
   "cell_type": "code",
   "execution_count": 36,
   "id": "aee57e1a",
   "metadata": {},
   "outputs": [
    {
     "data": {
      "text/plain": [
       "id                              int64\n",
       "id_convocatoria                 int64\n",
       "administracion                 object\n",
       "departamento                   object\n",
       "organo                         object\n",
       "titulo_convocatoria            object\n",
       "url_bases_regul                object\n",
       "apli_presupuestaria            object\n",
       "fecha_concesion        datetime64[ns]\n",
       "beneficiario                   object\n",
       "importe                       float64\n",
       "instrumento                    object\n",
       "ayuda_equivalente             float64\n",
       "detalles                        int64\n",
       "codigo_bdns                    object\n",
       "valor_desconocido               int64\n",
       "id_interna                      int64\n",
       "dtype: object"
      ]
     },
     "execution_count": 36,
     "metadata": {},
     "output_type": "execute_result"
    }
   ],
   "source": [
    "df.dtypes"
   ]
  },
  {
   "cell_type": "code",
   "execution_count": 37,
   "id": "a2f338c8",
   "metadata": {},
   "outputs": [
    {
     "data": {
      "text/html": [
       "<div>\n",
       "<style scoped>\n",
       "    .dataframe tbody tr th:only-of-type {\n",
       "        vertical-align: middle;\n",
       "    }\n",
       "\n",
       "    .dataframe tbody tr th {\n",
       "        vertical-align: top;\n",
       "    }\n",
       "\n",
       "    .dataframe thead th {\n",
       "        text-align: right;\n",
       "    }\n",
       "</style>\n",
       "<table border=\"1\" class=\"dataframe\">\n",
       "  <thead>\n",
       "    <tr style=\"text-align: right;\">\n",
       "      <th></th>\n",
       "      <th>id</th>\n",
       "      <th>id_convocatoria</th>\n",
       "      <th>administracion</th>\n",
       "      <th>departamento</th>\n",
       "      <th>organo</th>\n",
       "      <th>titulo_convocatoria</th>\n",
       "      <th>url_bases_regul</th>\n",
       "      <th>apli_presupuestaria</th>\n",
       "      <th>fecha_concesion</th>\n",
       "      <th>beneficiario</th>\n",
       "      <th>importe</th>\n",
       "      <th>instrumento</th>\n",
       "      <th>ayuda_equivalente</th>\n",
       "      <th>detalles</th>\n",
       "      <th>codigo_bdns</th>\n",
       "      <th>valor_desconocido</th>\n",
       "      <th>id_interna</th>\n",
       "    </tr>\n",
       "  </thead>\n",
       "  <tbody>\n",
       "    <tr>\n",
       "      <th>0</th>\n",
       "      <td>65045185</td>\n",
       "      <td>811910</td>\n",
       "      <td>COMARCA COMUNIDAD DE TERUEL</td>\n",
       "      <td>COMARCA DE COMUNIDAD DE TERUEL</td>\n",
       "      <td>NaN</td>\n",
       "      <td>CONVOCATORIA DE SUBVENCIONES DESTINADAS A AYUN...</td>\n",
       "      <td>https://236ws.dpteruel.es/estatico/boletines/2...</td>\n",
       "      <td>2022-03-3321-46203</td>\n",
       "      <td>2022-03-24</td>\n",
       "      <td>P4407400C AYUNTAMIENTO DE CEDRILLAS</td>\n",
       "      <td>500.0</td>\n",
       "      <td>SUBVENCIÓN Y ENTREGA DINERARIA SIN CONTRAPREST...</td>\n",
       "      <td>500.0</td>\n",
       "      <td>0</td>\n",
       "      <td>610350</td>\n",
       "      <td>10413793</td>\n",
       "      <td>1</td>\n",
       "    </tr>\n",
       "    <tr>\n",
       "      <th>1</th>\n",
       "      <td>65045222</td>\n",
       "      <td>811910</td>\n",
       "      <td>COMARCA COMUNIDAD DE TERUEL</td>\n",
       "      <td>COMARCA DE COMUNIDAD DE TERUEL</td>\n",
       "      <td>NaN</td>\n",
       "      <td>CONVOCATORIA DE SUBVENCIONES DESTINADAS A AYUN...</td>\n",
       "      <td>https://236ws.dpteruel.es/estatico/boletines/2...</td>\n",
       "      <td>2022-03-3321-46203</td>\n",
       "      <td>2022-03-24</td>\n",
       "      <td>P4427500F AYUNTAMIENTO DE VILLARQUEMADO</td>\n",
       "      <td>500.0</td>\n",
       "      <td>SUBVENCIÓN Y ENTREGA DINERARIA SIN CONTRAPREST...</td>\n",
       "      <td>500.0</td>\n",
       "      <td>0</td>\n",
       "      <td>610350</td>\n",
       "      <td>10413793</td>\n",
       "      <td>2</td>\n",
       "    </tr>\n",
       "    <tr>\n",
       "      <th>2</th>\n",
       "      <td>65045266</td>\n",
       "      <td>811910</td>\n",
       "      <td>COMARCA COMUNIDAD DE TERUEL</td>\n",
       "      <td>COMARCA DE COMUNIDAD DE TERUEL</td>\n",
       "      <td>NaN</td>\n",
       "      <td>CONVOCATORIA DE SUBVENCIONES DESTINADAS A AYUN...</td>\n",
       "      <td>https://236ws.dpteruel.es/estatico/boletines/2...</td>\n",
       "      <td>2022-03-3321-46203</td>\n",
       "      <td>2022-03-24</td>\n",
       "      <td>P4422100J AYUNTAMIENTO DE SANTA EULALIA DEL CAMPO</td>\n",
       "      <td>500.0</td>\n",
       "      <td>SUBVENCIÓN Y ENTREGA DINERARIA SIN CONTRAPREST...</td>\n",
       "      <td>500.0</td>\n",
       "      <td>0</td>\n",
       "      <td>610350</td>\n",
       "      <td>10413793</td>\n",
       "      <td>3</td>\n",
       "    </tr>\n",
       "    <tr>\n",
       "      <th>3</th>\n",
       "      <td>65045280</td>\n",
       "      <td>811910</td>\n",
       "      <td>COMARCA COMUNIDAD DE TERUEL</td>\n",
       "      <td>COMARCA DE COMUNIDAD DE TERUEL</td>\n",
       "      <td>NaN</td>\n",
       "      <td>CONVOCATORIA DE SUBVENCIONES DESTINADAS A AYUN...</td>\n",
       "      <td>https://236ws.dpteruel.es/estatico/boletines/2...</td>\n",
       "      <td>2022-03-3321-46203</td>\n",
       "      <td>2022-03-24</td>\n",
       "      <td>P4407600H AYUNTAMIENTO DE CELLA</td>\n",
       "      <td>500.0</td>\n",
       "      <td>SUBVENCIÓN Y ENTREGA DINERARIA SIN CONTRAPREST...</td>\n",
       "      <td>500.0</td>\n",
       "      <td>0</td>\n",
       "      <td>610350</td>\n",
       "      <td>10413793</td>\n",
       "      <td>4</td>\n",
       "    </tr>\n",
       "    <tr>\n",
       "      <th>4</th>\n",
       "      <td>65042893</td>\n",
       "      <td>818661</td>\n",
       "      <td>DIPUTACIÓN PROV. DE BADAJOZ</td>\n",
       "      <td>DIPUTACIÓN PROVINCIAL DE BADAJOZ</td>\n",
       "      <td>NaN</td>\n",
       "      <td>CONVOCATORIA_SUBV_NOM_2022_EXTREMADURA FEMENIN...</td>\n",
       "      <td>http://economia.dip-badajoz.es/presupuestos</td>\n",
       "      <td>2022-111/34100/48041</td>\n",
       "      <td>2022-03-24</td>\n",
       "      <td>G06330500 CLUB DEPORTIVO EXTREMADURA FEMENINO CF</td>\n",
       "      <td>10000.0</td>\n",
       "      <td>SUBVENCIÓN Y ENTREGA DINERARIA SIN CONTRAPREST...</td>\n",
       "      <td>10000.0</td>\n",
       "      <td>0</td>\n",
       "      <td>617101</td>\n",
       "      <td>10413793</td>\n",
       "      <td>5</td>\n",
       "    </tr>\n",
       "  </tbody>\n",
       "</table>\n",
       "</div>"
      ],
      "text/plain": [
       "         id  id_convocatoria               administracion   \n",
       "0  65045185           811910  COMARCA COMUNIDAD DE TERUEL  \\\n",
       "1  65045222           811910  COMARCA COMUNIDAD DE TERUEL   \n",
       "2  65045266           811910  COMARCA COMUNIDAD DE TERUEL   \n",
       "3  65045280           811910  COMARCA COMUNIDAD DE TERUEL   \n",
       "4  65042893           818661  DIPUTACIÓN PROV. DE BADAJOZ   \n",
       "\n",
       "                       departamento organo   \n",
       "0    COMARCA DE COMUNIDAD DE TERUEL    NaN  \\\n",
       "1    COMARCA DE COMUNIDAD DE TERUEL    NaN   \n",
       "2    COMARCA DE COMUNIDAD DE TERUEL    NaN   \n",
       "3    COMARCA DE COMUNIDAD DE TERUEL    NaN   \n",
       "4  DIPUTACIÓN PROVINCIAL DE BADAJOZ    NaN   \n",
       "\n",
       "                                 titulo_convocatoria   \n",
       "0  CONVOCATORIA DE SUBVENCIONES DESTINADAS A AYUN...  \\\n",
       "1  CONVOCATORIA DE SUBVENCIONES DESTINADAS A AYUN...   \n",
       "2  CONVOCATORIA DE SUBVENCIONES DESTINADAS A AYUN...   \n",
       "3  CONVOCATORIA DE SUBVENCIONES DESTINADAS A AYUN...   \n",
       "4  CONVOCATORIA_SUBV_NOM_2022_EXTREMADURA FEMENIN...   \n",
       "\n",
       "                                     url_bases_regul   apli_presupuestaria   \n",
       "0  https://236ws.dpteruel.es/estatico/boletines/2...    2022-03-3321-46203  \\\n",
       "1  https://236ws.dpteruel.es/estatico/boletines/2...    2022-03-3321-46203   \n",
       "2  https://236ws.dpteruel.es/estatico/boletines/2...    2022-03-3321-46203   \n",
       "3  https://236ws.dpteruel.es/estatico/boletines/2...    2022-03-3321-46203   \n",
       "4        http://economia.dip-badajoz.es/presupuestos  2022-111/34100/48041   \n",
       "\n",
       "  fecha_concesion                                       beneficiario  importe   \n",
       "0      2022-03-24                P4407400C AYUNTAMIENTO DE CEDRILLAS    500.0  \\\n",
       "1      2022-03-24            P4427500F AYUNTAMIENTO DE VILLARQUEMADO    500.0   \n",
       "2      2022-03-24  P4422100J AYUNTAMIENTO DE SANTA EULALIA DEL CAMPO    500.0   \n",
       "3      2022-03-24                    P4407600H AYUNTAMIENTO DE CELLA    500.0   \n",
       "4      2022-03-24   G06330500 CLUB DEPORTIVO EXTREMADURA FEMENINO CF  10000.0   \n",
       "\n",
       "                                         instrumento  ayuda_equivalente   \n",
       "0  SUBVENCIÓN Y ENTREGA DINERARIA SIN CONTRAPREST...              500.0  \\\n",
       "1  SUBVENCIÓN Y ENTREGA DINERARIA SIN CONTRAPREST...              500.0   \n",
       "2  SUBVENCIÓN Y ENTREGA DINERARIA SIN CONTRAPREST...              500.0   \n",
       "3  SUBVENCIÓN Y ENTREGA DINERARIA SIN CONTRAPREST...              500.0   \n",
       "4  SUBVENCIÓN Y ENTREGA DINERARIA SIN CONTRAPREST...            10000.0   \n",
       "\n",
       "   detalles codigo_bdns  valor_desconocido  id_interna  \n",
       "0         0      610350           10413793           1  \n",
       "1         0      610350           10413793           2  \n",
       "2         0      610350           10413793           3  \n",
       "3         0      610350           10413793           4  \n",
       "4         0      617101           10413793           5  "
      ]
     },
     "execution_count": 37,
     "metadata": {},
     "output_type": "execute_result"
    }
   ],
   "source": [
    "df.head()"
   ]
  },
  {
   "cell_type": "code",
   "execution_count": 38,
   "id": "9f412b3d",
   "metadata": {},
   "outputs": [
    {
     "data": {
      "text/plain": [
       "True"
      ]
     },
     "execution_count": 38,
     "metadata": {},
     "output_type": "execute_result"
    }
   ],
   "source": [
    "df[\"id\"].is_unique"
   ]
  },
  {
   "cell_type": "code",
   "execution_count": 39,
   "id": "8229aa2f",
   "metadata": {},
   "outputs": [
    {
     "data": {
      "text/plain": [
       "True"
      ]
     },
     "execution_count": 39,
     "metadata": {},
     "output_type": "execute_result"
    }
   ],
   "source": [
    "df[\"id_interna\"].is_unique"
   ]
  },
  {
   "cell_type": "code",
   "execution_count": 32,
   "id": "4a9a3142",
   "metadata": {},
   "outputs": [],
   "source": [
    "df = df.set_index(\"id\")"
   ]
  },
  {
   "cell_type": "code",
   "execution_count": 41,
   "id": "ce8d3bf8",
   "metadata": {},
   "outputs": [
    {
     "data": {
      "text/html": [
       "<div>\n",
       "<style scoped>\n",
       "    .dataframe tbody tr th:only-of-type {\n",
       "        vertical-align: middle;\n",
       "    }\n",
       "\n",
       "    .dataframe tbody tr th {\n",
       "        vertical-align: top;\n",
       "    }\n",
       "\n",
       "    .dataframe thead th {\n",
       "        text-align: right;\n",
       "    }\n",
       "</style>\n",
       "<table border=\"1\" class=\"dataframe\">\n",
       "  <thead>\n",
       "    <tr style=\"text-align: right;\">\n",
       "      <th></th>\n",
       "      <th>id_convocatoria</th>\n",
       "      <th>administracion</th>\n",
       "      <th>departamento</th>\n",
       "      <th>organo</th>\n",
       "      <th>titulo_convocatoria</th>\n",
       "      <th>url_bases_regul</th>\n",
       "      <th>apli_presupuestaria</th>\n",
       "      <th>fecha_concesion</th>\n",
       "      <th>beneficiario</th>\n",
       "      <th>importe</th>\n",
       "      <th>instrumento</th>\n",
       "      <th>ayuda_equivalente</th>\n",
       "      <th>detalles</th>\n",
       "      <th>codigo_bdns</th>\n",
       "      <th>valor_desconocido</th>\n",
       "      <th>id_interna</th>\n",
       "    </tr>\n",
       "    <tr>\n",
       "      <th>id</th>\n",
       "      <th></th>\n",
       "      <th></th>\n",
       "      <th></th>\n",
       "      <th></th>\n",
       "      <th></th>\n",
       "      <th></th>\n",
       "      <th></th>\n",
       "      <th></th>\n",
       "      <th></th>\n",
       "      <th></th>\n",
       "      <th></th>\n",
       "      <th></th>\n",
       "      <th></th>\n",
       "      <th></th>\n",
       "      <th></th>\n",
       "      <th></th>\n",
       "    </tr>\n",
       "  </thead>\n",
       "  <tbody>\n",
       "    <tr>\n",
       "      <th>65045185</th>\n",
       "      <td>811910</td>\n",
       "      <td>COMARCA COMUNIDAD DE TERUEL</td>\n",
       "      <td>COMARCA DE COMUNIDAD DE TERUEL</td>\n",
       "      <td>NaN</td>\n",
       "      <td>CONVOCATORIA DE SUBVENCIONES DESTINADAS A AYUN...</td>\n",
       "      <td>https://236ws.dpteruel.es/estatico/boletines/2...</td>\n",
       "      <td>2022-03-3321-46203</td>\n",
       "      <td>2022-03-24</td>\n",
       "      <td>P4407400C AYUNTAMIENTO DE CEDRILLAS</td>\n",
       "      <td>500.0</td>\n",
       "      <td>SUBVENCIÓN Y ENTREGA DINERARIA SIN CONTRAPREST...</td>\n",
       "      <td>500.0</td>\n",
       "      <td>0</td>\n",
       "      <td>610350</td>\n",
       "      <td>10413793</td>\n",
       "      <td>1</td>\n",
       "    </tr>\n",
       "  </tbody>\n",
       "</table>\n",
       "</div>"
      ],
      "text/plain": [
       "          id_convocatoria               administracion   \n",
       "id                                                       \n",
       "65045185           811910  COMARCA COMUNIDAD DE TERUEL  \\\n",
       "\n",
       "                            departamento organo   \n",
       "id                                                \n",
       "65045185  COMARCA DE COMUNIDAD DE TERUEL    NaN  \\\n",
       "\n",
       "                                        titulo_convocatoria   \n",
       "id                                                            \n",
       "65045185  CONVOCATORIA DE SUBVENCIONES DESTINADAS A AYUN...  \\\n",
       "\n",
       "                                            url_bases_regul   \n",
       "id                                                            \n",
       "65045185  https://236ws.dpteruel.es/estatico/boletines/2...  \\\n",
       "\n",
       "         apli_presupuestaria fecha_concesion   \n",
       "id                                             \n",
       "65045185  2022-03-3321-46203      2022-03-24  \\\n",
       "\n",
       "                                 beneficiario  importe   \n",
       "id                                                       \n",
       "65045185  P4407400C AYUNTAMIENTO DE CEDRILLAS    500.0  \\\n",
       "\n",
       "                                                instrumento   \n",
       "id                                                            \n",
       "65045185  SUBVENCIÓN Y ENTREGA DINERARIA SIN CONTRAPREST...  \\\n",
       "\n",
       "          ayuda_equivalente  detalles codigo_bdns  valor_desconocido   \n",
       "id                                                                     \n",
       "65045185              500.0         0      610350           10413793  \\\n",
       "\n",
       "          id_interna  \n",
       "id                    \n",
       "65045185           1  "
      ]
     },
     "execution_count": 41,
     "metadata": {},
     "output_type": "execute_result"
    }
   ],
   "source": [
    "df.head(1)"
   ]
  },
  {
   "cell_type": "code",
   "execution_count": 42,
   "id": "c79c3f94",
   "metadata": {},
   "outputs": [
    {
     "data": {
      "text/html": [
       "<div>\n",
       "<style scoped>\n",
       "    .dataframe tbody tr th:only-of-type {\n",
       "        vertical-align: middle;\n",
       "    }\n",
       "\n",
       "    .dataframe tbody tr th {\n",
       "        vertical-align: top;\n",
       "    }\n",
       "\n",
       "    .dataframe thead th {\n",
       "        text-align: right;\n",
       "    }\n",
       "</style>\n",
       "<table border=\"1\" class=\"dataframe\">\n",
       "  <thead>\n",
       "    <tr style=\"text-align: right;\">\n",
       "      <th></th>\n",
       "      <th>id_convocatoria</th>\n",
       "      <th>fecha_concesion</th>\n",
       "      <th>importe</th>\n",
       "      <th>ayuda_equivalente</th>\n",
       "      <th>detalles</th>\n",
       "      <th>valor_desconocido</th>\n",
       "      <th>id_interna</th>\n",
       "    </tr>\n",
       "  </thead>\n",
       "  <tbody>\n",
       "    <tr>\n",
       "      <th>count</th>\n",
       "      <td>499717.000000</td>\n",
       "      <td>499717</td>\n",
       "      <td>4.997170e+05</td>\n",
       "      <td>4.997170e+05</td>\n",
       "      <td>499717.000000</td>\n",
       "      <td>499717.0</td>\n",
       "      <td>4.997170e+05</td>\n",
       "    </tr>\n",
       "    <tr>\n",
       "      <th>mean</th>\n",
       "      <td>741190.861103</td>\n",
       "      <td>2021-04-30 20:06:33.717243904</td>\n",
       "      <td>5.346162e+04</td>\n",
       "      <td>1.484514e+04</td>\n",
       "      <td>0.003698</td>\n",
       "      <td>10413793.0</td>\n",
       "      <td>5.322935e+06</td>\n",
       "    </tr>\n",
       "    <tr>\n",
       "      <th>min</th>\n",
       "      <td>1068.000000</td>\n",
       "      <td>2021-01-26 00:00:00</td>\n",
       "      <td>1.000000e-02</td>\n",
       "      <td>0.000000e+00</td>\n",
       "      <td>0.000000</td>\n",
       "      <td>10413793.0</td>\n",
       "      <td>1.000000e+00</td>\n",
       "    </tr>\n",
       "    <tr>\n",
       "      <th>25%</th>\n",
       "      <td>741707.000000</td>\n",
       "      <td>2021-03-12 00:00:00</td>\n",
       "      <td>2.000000e+03</td>\n",
       "      <td>0.000000e+00</td>\n",
       "      <td>0.000000</td>\n",
       "      <td>10413793.0</td>\n",
       "      <td>5.097310e+06</td>\n",
       "    </tr>\n",
       "    <tr>\n",
       "      <th>50%</th>\n",
       "      <td>754767.000000</td>\n",
       "      <td>2021-03-31 00:00:00</td>\n",
       "      <td>1.200000e+04</td>\n",
       "      <td>5.896900e+02</td>\n",
       "      <td>0.000000</td>\n",
       "      <td>10413793.0</td>\n",
       "      <td>5.418442e+06</td>\n",
       "    </tr>\n",
       "    <tr>\n",
       "      <th>75%</th>\n",
       "      <td>754767.000000</td>\n",
       "      <td>2021-04-27 00:00:00</td>\n",
       "      <td>4.213728e+04</td>\n",
       "      <td>3.735520e+03</td>\n",
       "      <td>0.000000</td>\n",
       "      <td>10413793.0</td>\n",
       "      <td>6.409678e+06</td>\n",
       "    </tr>\n",
       "    <tr>\n",
       "      <th>max</th>\n",
       "      <td>818797.000000</td>\n",
       "      <td>2022-03-24 00:00:00</td>\n",
       "      <td>2.586509e+08</td>\n",
       "      <td>2.586509e+08</td>\n",
       "      <td>1.000000</td>\n",
       "      <td>10413793.0</td>\n",
       "      <td>7.926566e+06</td>\n",
       "    </tr>\n",
       "    <tr>\n",
       "      <th>std</th>\n",
       "      <td>36899.683907</td>\n",
       "      <td>NaN</td>\n",
       "      <td>7.668875e+05</td>\n",
       "      <td>6.404002e+05</td>\n",
       "      <td>0.060699</td>\n",
       "      <td>0.0</td>\n",
       "      <td>2.003948e+06</td>\n",
       "    </tr>\n",
       "  </tbody>\n",
       "</table>\n",
       "</div>"
      ],
      "text/plain": [
       "       id_convocatoria                fecha_concesion       importe   \n",
       "count    499717.000000                         499717  4.997170e+05  \\\n",
       "mean     741190.861103  2021-04-30 20:06:33.717243904  5.346162e+04   \n",
       "min        1068.000000            2021-01-26 00:00:00  1.000000e-02   \n",
       "25%      741707.000000            2021-03-12 00:00:00  2.000000e+03   \n",
       "50%      754767.000000            2021-03-31 00:00:00  1.200000e+04   \n",
       "75%      754767.000000            2021-04-27 00:00:00  4.213728e+04   \n",
       "max      818797.000000            2022-03-24 00:00:00  2.586509e+08   \n",
       "std       36899.683907                            NaN  7.668875e+05   \n",
       "\n",
       "       ayuda_equivalente       detalles  valor_desconocido    id_interna  \n",
       "count       4.997170e+05  499717.000000           499717.0  4.997170e+05  \n",
       "mean        1.484514e+04       0.003698         10413793.0  5.322935e+06  \n",
       "min         0.000000e+00       0.000000         10413793.0  1.000000e+00  \n",
       "25%         0.000000e+00       0.000000         10413793.0  5.097310e+06  \n",
       "50%         5.896900e+02       0.000000         10413793.0  5.418442e+06  \n",
       "75%         3.735520e+03       0.000000         10413793.0  6.409678e+06  \n",
       "max         2.586509e+08       1.000000         10413793.0  7.926566e+06  \n",
       "std         6.404002e+05       0.060699                0.0  2.003948e+06  "
      ]
     },
     "execution_count": 42,
     "metadata": {},
     "output_type": "execute_result"
    }
   ],
   "source": [
    "df.describe()"
   ]
  },
  {
   "cell_type": "code",
   "execution_count": 47,
   "id": "a43742c7",
   "metadata": {},
   "outputs": [
    {
     "name": "stdout",
     "output_type": "stream",
     "text": [
      "Collecting scipy\n",
      "  Downloading scipy-1.10.1-cp311-cp311-macosx_12_0_arm64.whl (28.7 MB)\n",
      "\u001b[2K     \u001b[90m━━━━━━━━━━━━━━━━━━━━━━━━━━━━━━━━━━━━━━━━\u001b[0m \u001b[32m28.7/28.7 MB\u001b[0m \u001b[31m4.8 MB/s\u001b[0m eta \u001b[36m0:00:00\u001b[0m00:01\u001b[0m00:01\u001b[0m\n",
      "\u001b[?25hRequirement already satisfied: numpy<1.27.0,>=1.19.5 in ./.venv/lib/python3.11/site-packages (from scipy) (1.24.2)\n",
      "Installing collected packages: scipy\n",
      "Successfully installed scipy-1.10.1\n",
      "\n",
      "\u001b[1m[\u001b[0m\u001b[34;49mnotice\u001b[0m\u001b[1;39;49m]\u001b[0m\u001b[39;49m A new release of pip available: \u001b[0m\u001b[31;49m22.3.1\u001b[0m\u001b[39;49m -> \u001b[0m\u001b[32;49m23.1\u001b[0m\n",
      "\u001b[1m[\u001b[0m\u001b[34;49mnotice\u001b[0m\u001b[1;39;49m]\u001b[0m\u001b[39;49m To update, run: \u001b[0m\u001b[32;49mpip install --upgrade pip\u001b[0m\n",
      "Note: you may need to restart the kernel to use updated packages.\n"
     ]
    }
   ],
   "source": [
    "%pip install scipy"
   ]
  },
  {
   "cell_type": "code",
   "execution_count": 9,
   "id": "f929eee9",
   "metadata": {},
   "outputs": [
    {
     "data": {
      "text/plain": [
       "(0.0, 1000000.0)"
      ]
     },
     "execution_count": 9,
     "metadata": {},
     "output_type": "execute_result"
    },
    {
     "data": {
      "image/png": "[encoded data removed]",
      "text/plain": [
       "<Figure size 640x480 with 1 Axes>"
      ]
     },
     "metadata": {},
     "output_type": "display_data"
    }
   ],
   "source": [
    "ax = df.sample(frac=0.01)[\"importe\"].plot.kde()\n",
    "ax.set_xlim(0, 1e6)"
   ]
  },
  {
   "cell_type": "code",
   "execution_count": 11,
   "id": "a110d8e6",
   "metadata": {},
   "outputs": [
    {
     "data": {
      "text/plain": [
       "id_convocatoria          9091\n",
       "administracion            720\n",
       "departamento             1196\n",
       "organo                     67\n",
       "titulo_convocatoria      8864\n",
       "url_bases_regul          3128\n",
       "apli_presupuestaria      8668\n",
       "fecha_concesion           127\n",
       "beneficiario           329877\n",
       "importe                119052\n",
       "instrumento                 4\n",
       "ayuda_equivalente      115813\n",
       "detalles                    2\n",
       "codigo_bdns              9091\n",
       "valor_desconocido           1\n",
       "id_interna             499717\n",
       "dtype: int64"
      ]
     },
     "execution_count": 11,
     "metadata": {},
     "output_type": "execute_result"
    }
   ],
   "source": [
    "df.nunique()"
   ]
  },
  {
   "cell_type": "code",
   "execution_count": 12,
   "id": "baf83e9b",
   "metadata": {},
   "outputs": [
    {
     "data": {
      "text/plain": [
       "administracion\n",
       "ESTADO                      287139\n",
       "CATALUÑA                     45800\n",
       "CASTILLA Y LEÓN              25541\n",
       "CASTILLA-LA MANCHA           22769\n",
       "COMUNITAT VALENCIANA         14720\n",
       "                             ...  \n",
       "POBLA TORNESA, LA                1\n",
       "VILLANUEVA DE LAS CRUCES         1\n",
       "BERMEO                           1\n",
       "AZKOITIA                         1\n",
       "CORULLÓN                         1\n",
       "Name: count, Length: 720, dtype: int64"
      ]
     },
     "execution_count": 12,
     "metadata": {},
     "output_type": "execute_result"
    }
   ],
   "source": [
    "df[\"administracion\"].value_counts()"
   ]
  },
  {
   "cell_type": "code",
   "execution_count": 13,
   "id": "a3fb4228",
   "metadata": {},
   "outputs": [
    {
     "data": {
      "text/plain": [
       "instrumento\n",
       "SUBVENCIÓN Y ENTREGA DINERARIA SIN CONTRAPRESTACIÓN     270408\n",
       "GARANTÍA                                                228465\n",
       "PRÉSTAMOS                                                  837\n",
       "OTROS INSTRUMENTOS DE AYUDA                                  7\n",
       "Name: count, dtype: int64"
      ]
     },
     "execution_count": 13,
     "metadata": {},
     "output_type": "execute_result"
    }
   ],
   "source": [
    "df[\"instrumento\"].value_counts()"
   ]
  },
  {
   "cell_type": "code",
   "execution_count": 14,
   "id": "cd865863",
   "metadata": {},
   "outputs": [
    {
     "data": {
      "text/plain": [
       "count                                             499717\n",
       "unique                                              3128\n",
       "top       https://www.boe.es/eli/es/rdl/2020/03/17/8/con\n",
       "freq                                              189964\n",
       "Name: url_bases_regul, dtype: object"
      ]
     },
     "execution_count": 14,
     "metadata": {},
     "output_type": "execute_result"
    }
   ],
   "source": [
    "df[\"url_bases_regul\"].describe()"
   ]
  },
  {
   "cell_type": "code",
   "execution_count": 15,
   "id": "d5ba2845",
   "metadata": {},
   "outputs": [
    {
     "data": {
      "text/plain": [
       "count                           287139\n",
       "unique                              67\n",
       "top       INSTITUTO DE CRÉDITO OFICIAL\n",
       "freq                            223679\n",
       "Name: organo, dtype: object"
      ]
     },
     "execution_count": 15,
     "metadata": {},
     "output_type": "execute_result"
    }
   ],
   "source": [
    "df[\"organo\"].describe()"
   ]
  },
  {
   "cell_type": "code",
   "execution_count": 16,
   "id": "a1116cd3",
   "metadata": {},
   "outputs": [
    {
     "data": {
      "text/plain": [
       "organo\n",
       "INSTITUTO DE CRÉDITO OFICIAL                                                   223679\n",
       "ENTIDAD PÚBLICA EMPRESARIAL RED.ES                                              31522\n",
       "ENTIDAD ESTATAL DE SEGUROS AGRARIOS - ENESA                                     20687\n",
       "COMPAÑÍA ESPAÑOLA DE REAFIANZAMIENTO, S.M.E., S.A.                               4470\n",
       "OFICINA ESPAÑOLA DE PATENTES Y MARCAS, O.A.                                       965\n",
       "                                                                                ...  \n",
       "DIRECCION PROVINCIAL DEL SEPE DE CORDOBA                                            1\n",
       "SECRETARÍA GENERAL DE OBJETIVOS Y POLÍTICAS DE INCLUSIÓN Y PREVISIÓN SOCIAL         1\n",
       "CONSEJO SUPERIOR DE DEPORTES                                                        1\n",
       "INSTITUTO DE CONTABILIDAD Y AUDITORÍA DE CUENTAS                                    1\n",
       "DIRECCIÓN GENERAL DE EVALUACIÓN Y COOPERACIÓN TERRITORIAL                           1\n",
       "Name: count, Length: 67, dtype: int64"
      ]
     },
     "execution_count": 16,
     "metadata": {},
     "output_type": "execute_result"
    }
   ],
   "source": [
    "df[\"organo\"].value_counts()"
   ]
  },
  {
   "cell_type": "code",
   "execution_count": 10,
   "id": "efc2435a",
   "metadata": {},
   "outputs": [
    {
     "data": {
      "text/html": [
       "<div>\n",
       "<style scoped>\n",
       "    .dataframe tbody tr th:only-of-type {\n",
       "        vertical-align: middle;\n",
       "    }\n",
       "\n",
       "    .dataframe tbody tr th {\n",
       "        vertical-align: top;\n",
       "    }\n",
       "\n",
       "    .dataframe thead th {\n",
       "        text-align: right;\n",
       "    }\n",
       "</style>\n",
       "<table border=\"1\" class=\"dataframe\">\n",
       "  <thead>\n",
       "    <tr style=\"text-align: right;\">\n",
       "      <th></th>\n",
       "      <th>id_convocatoria</th>\n",
       "      <th>administracion</th>\n",
       "      <th>departamento</th>\n",
       "      <th>organo</th>\n",
       "      <th>titulo_convocatoria</th>\n",
       "      <th>url_bases_regul</th>\n",
       "      <th>apli_presupuestaria</th>\n",
       "      <th>fecha_concesion</th>\n",
       "      <th>beneficiario</th>\n",
       "      <th>importe</th>\n",
       "      <th>instrumento</th>\n",
       "      <th>ayuda_equivalente</th>\n",
       "      <th>detalles</th>\n",
       "      <th>codigo_bdns</th>\n",
       "      <th>valor_desconocido</th>\n",
       "      <th>id_interna</th>\n",
       "    </tr>\n",
       "    <tr>\n",
       "      <th>id</th>\n",
       "      <th></th>\n",
       "      <th></th>\n",
       "      <th></th>\n",
       "      <th></th>\n",
       "      <th></th>\n",
       "      <th></th>\n",
       "      <th></th>\n",
       "      <th></th>\n",
       "      <th></th>\n",
       "      <th></th>\n",
       "      <th></th>\n",
       "      <th></th>\n",
       "      <th></th>\n",
       "      <th></th>\n",
       "      <th></th>\n",
       "      <th></th>\n",
       "    </tr>\n",
       "  </thead>\n",
       "  <tbody>\n",
       "    <tr>\n",
       "      <th>65045185</th>\n",
       "      <td>811910</td>\n",
       "      <td>COMARCA COMUNIDAD DE TERUEL</td>\n",
       "      <td>COMARCA DE COMUNIDAD DE TERUEL</td>\n",
       "      <td>NaN</td>\n",
       "      <td>CONVOCATORIA DE SUBVENCIONES DESTINADAS A AYUN...</td>\n",
       "      <td>https://236ws.dpteruel.es/estatico/boletines/2...</td>\n",
       "      <td>2022-03-3321-46203</td>\n",
       "      <td>2022-03-24</td>\n",
       "      <td>P4407400C AYUNTAMIENTO DE CEDRILLAS</td>\n",
       "      <td>500.0</td>\n",
       "      <td>SUBVENCIÓN Y ENTREGA DINERARIA SIN CONTRAPREST...</td>\n",
       "      <td>500.0</td>\n",
       "      <td>0</td>\n",
       "      <td>610350</td>\n",
       "      <td>10413793</td>\n",
       "      <td>1</td>\n",
       "    </tr>\n",
       "    <tr>\n",
       "      <th>65045222</th>\n",
       "      <td>811910</td>\n",
       "      <td>COMARCA COMUNIDAD DE TERUEL</td>\n",
       "      <td>COMARCA DE COMUNIDAD DE TERUEL</td>\n",
       "      <td>NaN</td>\n",
       "      <td>CONVOCATORIA DE SUBVENCIONES DESTINADAS A AYUN...</td>\n",
       "      <td>https://236ws.dpteruel.es/estatico/boletines/2...</td>\n",
       "      <td>2022-03-3321-46203</td>\n",
       "      <td>2022-03-24</td>\n",
       "      <td>P4427500F AYUNTAMIENTO DE VILLARQUEMADO</td>\n",
       "      <td>500.0</td>\n",
       "      <td>SUBVENCIÓN Y ENTREGA DINERARIA SIN CONTRAPREST...</td>\n",
       "      <td>500.0</td>\n",
       "      <td>0</td>\n",
       "      <td>610350</td>\n",
       "      <td>10413793</td>\n",
       "      <td>2</td>\n",
       "    </tr>\n",
       "    <tr>\n",
       "      <th>65045266</th>\n",
       "      <td>811910</td>\n",
       "      <td>COMARCA COMUNIDAD DE TERUEL</td>\n",
       "      <td>COMARCA DE COMUNIDAD DE TERUEL</td>\n",
       "      <td>NaN</td>\n",
       "      <td>CONVOCATORIA DE SUBVENCIONES DESTINADAS A AYUN...</td>\n",
       "      <td>https://236ws.dpteruel.es/estatico/boletines/2...</td>\n",
       "      <td>2022-03-3321-46203</td>\n",
       "      <td>2022-03-24</td>\n",
       "      <td>P4422100J AYUNTAMIENTO DE SANTA EULALIA DEL CAMPO</td>\n",
       "      <td>500.0</td>\n",
       "      <td>SUBVENCIÓN Y ENTREGA DINERARIA SIN CONTRAPREST...</td>\n",
       "      <td>500.0</td>\n",
       "      <td>0</td>\n",
       "      <td>610350</td>\n",
       "      <td>10413793</td>\n",
       "      <td>3</td>\n",
       "    </tr>\n",
       "    <tr>\n",
       "      <th>65045280</th>\n",
       "      <td>811910</td>\n",
       "      <td>COMARCA COMUNIDAD DE TERUEL</td>\n",
       "      <td>COMARCA DE COMUNIDAD DE TERUEL</td>\n",
       "      <td>NaN</td>\n",
       "      <td>CONVOCATORIA DE SUBVENCIONES DESTINADAS A AYUN...</td>\n",
       "      <td>https://236ws.dpteruel.es/estatico/boletines/2...</td>\n",
       "      <td>2022-03-3321-46203</td>\n",
       "      <td>2022-03-24</td>\n",
       "      <td>P4407600H AYUNTAMIENTO DE CELLA</td>\n",
       "      <td>500.0</td>\n",
       "      <td>SUBVENCIÓN Y ENTREGA DINERARIA SIN CONTRAPREST...</td>\n",
       "      <td>500.0</td>\n",
       "      <td>0</td>\n",
       "      <td>610350</td>\n",
       "      <td>10413793</td>\n",
       "      <td>4</td>\n",
       "    </tr>\n",
       "    <tr>\n",
       "      <th>65042893</th>\n",
       "      <td>818661</td>\n",
       "      <td>DIPUTACIÓN PROV. DE BADAJOZ</td>\n",
       "      <td>DIPUTACIÓN PROVINCIAL DE BADAJOZ</td>\n",
       "      <td>NaN</td>\n",
       "      <td>CONVOCATORIA_SUBV_NOM_2022_EXTREMADURA FEMENIN...</td>\n",
       "      <td>http://economia.dip-badajoz.es/presupuestos</td>\n",
       "      <td>2022-111/34100/48041</td>\n",
       "      <td>2022-03-24</td>\n",
       "      <td>G06330500 CLUB DEPORTIVO EXTREMADURA FEMENINO CF</td>\n",
       "      <td>10000.0</td>\n",
       "      <td>SUBVENCIÓN Y ENTREGA DINERARIA SIN CONTRAPREST...</td>\n",
       "      <td>10000.0</td>\n",
       "      <td>0</td>\n",
       "      <td>617101</td>\n",
       "      <td>10413793</td>\n",
       "      <td>5</td>\n",
       "    </tr>\n",
       "  </tbody>\n",
       "</table>\n",
       "</div>"
      ],
      "text/plain": [
       "          id_convocatoria               administracion   \n",
       "id                                                       \n",
       "65045185           811910  COMARCA COMUNIDAD DE TERUEL  \\\n",
       "65045222           811910  COMARCA COMUNIDAD DE TERUEL   \n",
       "65045266           811910  COMARCA COMUNIDAD DE TERUEL   \n",
       "65045280           811910  COMARCA COMUNIDAD DE TERUEL   \n",
       "65042893           818661  DIPUTACIÓN PROV. DE BADAJOZ   \n",
       "\n",
       "                              departamento organo   \n",
       "id                                                  \n",
       "65045185    COMARCA DE COMUNIDAD DE TERUEL    NaN  \\\n",
       "65045222    COMARCA DE COMUNIDAD DE TERUEL    NaN   \n",
       "65045266    COMARCA DE COMUNIDAD DE TERUEL    NaN   \n",
       "65045280    COMARCA DE COMUNIDAD DE TERUEL    NaN   \n",
       "65042893  DIPUTACIÓN PROVINCIAL DE BADAJOZ    NaN   \n",
       "\n",
       "                                        titulo_convocatoria   \n",
       "id                                                            \n",
       "65045185  CONVOCATORIA DE SUBVENCIONES DESTINADAS A AYUN...  \\\n",
       "65045222  CONVOCATORIA DE SUBVENCIONES DESTINADAS A AYUN...   \n",
       "65045266  CONVOCATORIA DE SUBVENCIONES DESTINADAS A AYUN...   \n",
       "65045280  CONVOCATORIA DE SUBVENCIONES DESTINADAS A AYUN...   \n",
       "65042893  CONVOCATORIA_SUBV_NOM_2022_EXTREMADURA FEMENIN...   \n",
       "\n",
       "                                            url_bases_regul   \n",
       "id                                                            \n",
       "65045185  https://236ws.dpteruel.es/estatico/boletines/2...  \\\n",
       "65045222  https://236ws.dpteruel.es/estatico/boletines/2...   \n",
       "65045266  https://236ws.dpteruel.es/estatico/boletines/2...   \n",
       "65045280  https://236ws.dpteruel.es/estatico/boletines/2...   \n",
       "65042893        http://economia.dip-badajoz.es/presupuestos   \n",
       "\n",
       "           apli_presupuestaria fecha_concesion   \n",
       "id                                               \n",
       "65045185    2022-03-3321-46203      2022-03-24  \\\n",
       "65045222    2022-03-3321-46203      2022-03-24   \n",
       "65045266    2022-03-3321-46203      2022-03-24   \n",
       "65045280    2022-03-3321-46203      2022-03-24   \n",
       "65042893  2022-111/34100/48041      2022-03-24   \n",
       "\n",
       "                                               beneficiario  importe   \n",
       "id                                                                     \n",
       "65045185                P4407400C AYUNTAMIENTO DE CEDRILLAS    500.0  \\\n",
       "65045222            P4427500F AYUNTAMIENTO DE VILLARQUEMADO    500.0   \n",
       "65045266  P4422100J AYUNTAMIENTO DE SANTA EULALIA DEL CAMPO    500.0   \n",
       "65045280                    P4407600H AYUNTAMIENTO DE CELLA    500.0   \n",
       "65042893   G06330500 CLUB DEPORTIVO EXTREMADURA FEMENINO CF  10000.0   \n",
       "\n",
       "                                                instrumento   \n",
       "id                                                            \n",
       "65045185  SUBVENCIÓN Y ENTREGA DINERARIA SIN CONTRAPREST...  \\\n",
       "65045222  SUBVENCIÓN Y ENTREGA DINERARIA SIN CONTRAPREST...   \n",
       "65045266  SUBVENCIÓN Y ENTREGA DINERARIA SIN CONTRAPREST...   \n",
       "65045280  SUBVENCIÓN Y ENTREGA DINERARIA SIN CONTRAPREST...   \n",
       "65042893  SUBVENCIÓN Y ENTREGA DINERARIA SIN CONTRAPREST...   \n",
       "\n",
       "          ayuda_equivalente  detalles codigo_bdns  valor_desconocido   \n",
       "id                                                                     \n",
       "65045185              500.0         0      610350           10413793  \\\n",
       "65045222              500.0         0      610350           10413793   \n",
       "65045266              500.0         0      610350           10413793   \n",
       "65045280              500.0         0      610350           10413793   \n",
       "65042893            10000.0         0      617101           10413793   \n",
       "\n",
       "          id_interna  \n",
       "id                    \n",
       "65045185           1  \n",
       "65045222           2  \n",
       "65045266           3  \n",
       "65045280           4  \n",
       "65042893           5  "
      ]
     },
     "execution_count": 10,
     "metadata": {},
     "output_type": "execute_result"
    }
   ],
   "source": [
    "df.head()"
   ]
  },
  {
   "cell_type": "code",
   "execution_count": 21,
   "id": "28f96d5d",
   "metadata": {},
   "outputs": [
    {
     "data": {
      "text/plain": [
       "beneficiario\n",
       "Q2818002D AGENCIA ESTATAL CONSEJO SUPERIOR DE INVESTIGACIONES CIENTIFICAS (CSIC)    4796\n",
       "Q2866001G CRUZ ROJA ESPAÑOLA                                                        3469\n",
       "Q1818002F UNIVERSIDAD DE GRANADA                                                    1646\n",
       "Q4118001I UNIVERSIDAD DE SEVILLA                                                    1428\n",
       "Q0818001J UNIVERSIDAD DE BARCELONA                                                  1105\n",
       "                                                                                    ... \n",
       "B76256569 BOSPAEZ S.L.                                                                 1\n",
       "B65569816 AGPER ECONOMISTES I ADVOCATS SLP                                             1\n",
       "B53525762 PROYECTOS RUIZ MARTINEZ S.L.                                                 1\n",
       "E36053940 ALUMINIOS CHEDA CB                                                           1\n",
       "V13015334 S.A.T.N-885- BERNAV                                                          1\n",
       "Name: count, Length: 1176720, dtype: int64"
      ]
     },
     "execution_count": 21,
     "metadata": {},
     "output_type": "execute_result"
    }
   ],
   "source": [
    "df[\"beneficiario\"].value_counts()"
   ]
  },
  {
   "cell_type": "code",
   "execution_count": 29,
   "id": "475ea039",
   "metadata": {},
   "outputs": [
    {
     "data": {
      "text/html": [
       "<div>\n",
       "<style scoped>\n",
       "    .dataframe tbody tr th:only-of-type {\n",
       "        vertical-align: middle;\n",
       "    }\n",
       "\n",
       "    .dataframe tbody tr th {\n",
       "        vertical-align: top;\n",
       "    }\n",
       "\n",
       "    .dataframe thead th {\n",
       "        text-align: right;\n",
       "    }\n",
       "</style>\n",
       "<table border=\"1\" class=\"dataframe\">\n",
       "  <thead>\n",
       "    <tr style=\"text-align: right;\">\n",
       "      <th></th>\n",
       "      <th>importe</th>\n",
       "    </tr>\n",
       "    <tr>\n",
       "      <th>beneficiario</th>\n",
       "      <th></th>\n",
       "    </tr>\n",
       "  </thead>\n",
       "  <tbody>\n",
       "    <tr>\n",
       "      <th>Q4618001D UNIVERSITAT DE VALENCIA (ESTUDI GENERAL DE VALENCIA)</th>\n",
       "      <td>1.481605e+09</td>\n",
       "    </tr>\n",
       "    <tr>\n",
       "      <th>Q4618002B UNIVERSIDAD POLITECNICA DE VALENCIA-MINISTERIO DE UNIVERSIDADES E INVESTIGACION</th>\n",
       "      <td>1.234546e+09</td>\n",
       "    </tr>\n",
       "    <tr>\n",
       "      <th>S2827001E Mº SANIDAD CONSUMO Y BIENESTAR SOCIAL</th>\n",
       "      <td>8.667116e+08</td>\n",
       "    </tr>\n",
       "    <tr>\n",
       "      <th>Q2866001G CRUZ ROJA ESPAÑOLA</th>\n",
       "      <td>7.908705e+08</td>\n",
       "    </tr>\n",
       "    <tr>\n",
       "      <th>A28017895 EL CORTE INGLES, S.A.</th>\n",
       "      <td>7.180400e+08</td>\n",
       "    </tr>\n",
       "    <tr>\n",
       "      <th>Q3018001B UNIVERSIDAD DE MURCIA</th>\n",
       "      <td>7.100083e+08</td>\n",
       "    </tr>\n",
       "    <tr>\n",
       "      <th>A63422141 VUELING AIRLINES S.A.</th>\n",
       "      <td>6.536450e+08</td>\n",
       "    </tr>\n",
       "    <tr>\n",
       "      <th>A38666897 BINTER CANARIAS S.A.</th>\n",
       "      <td>6.377104e+08</td>\n",
       "    </tr>\n",
       "    <tr>\n",
       "      <th>A85850394 IBERIA LINEAS AEREAS DE ESPAÑA SA OPERADORA</th>\n",
       "      <td>6.156000e+08</td>\n",
       "    </tr>\n",
       "    <tr>\n",
       "      <th>Q2818002D AGENCIA ESTATAL CONSEJO SUPERIOR DE INVESTIGACIONES CIENTIFICAS (CSIC)</th>\n",
       "      <td>6.068335e+08</td>\n",
       "    </tr>\n",
       "    <tr>\n",
       "      <th>A85850394 IBERIA LAE SA OPERADORA UNIPERSONAL</th>\n",
       "      <td>4.935603e+08</td>\n",
       "    </tr>\n",
       "    <tr>\n",
       "      <th>A82018474 TELEFONICA DE ESPAÑA, S.A.</th>\n",
       "      <td>4.803472e+08</td>\n",
       "    </tr>\n",
       "    <tr>\n",
       "      <th>B16652430 AIR EUROPA HOLDING SL</th>\n",
       "      <td>4.750000e+08</td>\n",
       "    </tr>\n",
       "    <tr>\n",
       "      <th>Q6250003H UNIVERSITAT JAUME I DE CASTELLON CAV</th>\n",
       "      <td>4.217599e+08</td>\n",
       "    </tr>\n",
       "    <tr>\n",
       "      <th>Q0332001G UNIVERSIDAD DE ALICANTE MINISTERIO DE UNIVERSIDADES E INVESTIGACION</th>\n",
       "      <td>4.194489e+08</td>\n",
       "    </tr>\n",
       "    <tr>\n",
       "      <th>Q5350015C UNIVERSIDAD MIGUEL HERNANDEZ DE ELCHE</th>\n",
       "      <td>4.134199e+08</td>\n",
       "    </tr>\n",
       "    <tr>\n",
       "      <th>A78304516 MELIA HOTELS INTERNATIONAL, S.A.</th>\n",
       "      <td>3.972883e+08</td>\n",
       "    </tr>\n",
       "    <tr>\n",
       "      <th>A28013811 SACYR S.A.</th>\n",
       "      <td>3.861000e+08</td>\n",
       "    </tr>\n",
       "    <tr>\n",
       "      <th>Q7850003J CONSORCIO REGIONAL DE TRANSPORTES PÚBLICOS REGUALRES DE MADRID</th>\n",
       "      <td>3.806820e+08</td>\n",
       "    </tr>\n",
       "    <tr>\n",
       "      <th>A07009830 BARCELO CORPORACION GRUPO EMPRESARIAL S.A.</th>\n",
       "      <td>3.717692e+08</td>\n",
       "    </tr>\n",
       "  </tbody>\n",
       "</table>\n",
       "</div>"
      ],
      "text/plain": [
       "                                                         importe\n",
       "beneficiario                                                    \n",
       "Q4618001D UNIVERSITAT DE VALENCIA (ESTUDI GENER...  1.481605e+09\n",
       "Q4618002B UNIVERSIDAD POLITECNICA DE VALENCIA-M...  1.234546e+09\n",
       "S2827001E Mº SANIDAD CONSUMO Y BIENESTAR SOCIAL     8.667116e+08\n",
       "Q2866001G CRUZ ROJA ESPAÑOLA                        7.908705e+08\n",
       "A28017895 EL CORTE INGLES, S.A.                     7.180400e+08\n",
       "Q3018001B UNIVERSIDAD DE MURCIA                     7.100083e+08\n",
       "A63422141 VUELING AIRLINES S.A.                     6.536450e+08\n",
       "A38666897 BINTER CANARIAS S.A.                      6.377104e+08\n",
       "A85850394 IBERIA LINEAS AEREAS DE ESPAÑA SA OPE...  6.156000e+08\n",
       "Q2818002D AGENCIA ESTATAL CONSEJO SUPERIOR DE I...  6.068335e+08\n",
       "A85850394 IBERIA LAE SA OPERADORA UNIPERSONAL       4.935603e+08\n",
       "A82018474 TELEFONICA DE ESPAÑA, S.A.                4.803472e+08\n",
       "B16652430 AIR EUROPA HOLDING SL                     4.750000e+08\n",
       "Q6250003H UNIVERSITAT JAUME I DE CASTELLON CAV      4.217599e+08\n",
       "Q0332001G UNIVERSIDAD DE ALICANTE MINISTERIO DE...  4.194489e+08\n",
       "Q5350015C UNIVERSIDAD MIGUEL HERNANDEZ DE ELCHE     4.134199e+08\n",
       "A78304516 MELIA HOTELS INTERNATIONAL, S.A.          3.972883e+08\n",
       "A28013811 SACYR S.A.                                3.861000e+08\n",
       "Q7850003J CONSORCIO REGIONAL DE TRANSPORTES PÚB...  3.806820e+08\n",
       "A07009830 BARCELO CORPORACION GRUPO EMPRESARIAL...  3.717692e+08"
      ]
     },
     "execution_count": 29,
     "metadata": {},
     "output_type": "execute_result"
    }
   ],
   "source": [
    "(\n",
    "    df\n",
    "    .groupby(\"beneficiario\")[\"importe\"].sum()\n",
    "    .sort_values(ascending=False)\n",
    "    .head(20)\n",
    "    .to_frame()\n",
    ")"
   ]
  },
  {
   "cell_type": "code",
   "execution_count": 33,
   "id": "9d4ba495",
   "metadata": {},
   "outputs": [
    {
     "data": {
      "text/plain": [
       "count                          3810368\n",
       "mean     2020-06-17 08:07:47.180073728\n",
       "min                2018-01-01 00:00:00\n",
       "25%                2019-09-23 00:00:00\n",
       "50%                2020-09-03 00:00:00\n",
       "75%                2021-04-28 00:00:00\n",
       "max                2022-03-24 00:00:00\n",
       "Name: fecha_concesion, dtype: object"
      ]
     },
     "execution_count": 33,
     "metadata": {},
     "output_type": "execute_result"
    }
   ],
   "source": [
    "df[\"fecha_concesion\"].describe()"
   ]
  },
  {
   "cell_type": "code",
   "execution_count": 39,
   "id": "e1446581",
   "metadata": {},
   "outputs": [
    {
     "data": {
      "text/plain": [
       "id\n",
       "65045185    2022\n",
       "Name: fecha_concesion, dtype: int32"
      ]
     },
     "execution_count": 39,
     "metadata": {},
     "output_type": "execute_result"
    }
   ],
   "source": [
    "df[\"fecha_concesion\"].dt.year.head(1)"
   ]
  },
  {
   "cell_type": "code",
   "execution_count": 37,
   "id": "1bec9b17",
   "metadata": {},
   "outputs": [
    {
     "data": {
      "text/plain": [
       "id\n",
       "65045185    Jueves\n",
       "Name: fecha_concesion, dtype: object"
      ]
     },
     "execution_count": 37,
     "metadata": {},
     "output_type": "execute_result"
    }
   ],
   "source": [
    "df[\"fecha_concesion\"].dt.day_name(locale=\"es_ES\").head(1)"
   ]
  },
  {
   "cell_type": "code",
   "execution_count": 40,
   "id": "1076e872",
   "metadata": {},
   "outputs": [
    {
     "data": {
      "text/plain": [
       "fecha_concesion\n",
       "2018    1.858500e+10\n",
       "2019    1.966609e+10\n",
       "2020    8.030500e+10\n",
       "2021    5.976936e+10\n",
       "2022    3.278892e+09\n",
       "Name: importe, dtype: float64"
      ]
     },
     "execution_count": 40,
     "metadata": {},
     "output_type": "execute_result"
    }
   ],
   "source": [
    "df.groupby(df[\"fecha_concesion\"].dt.year)[\"importe\"].sum()"
   ]
  },
  {
   "cell_type": "code",
   "execution_count": 41,
   "id": "5424f763",
   "metadata": {},
   "outputs": [
    {
     "data": {
      "text/plain": [
       "<Axes: xlabel='fecha_concesion'>"
      ]
     },
     "execution_count": 41,
     "metadata": {},
     "output_type": "execute_result"
    },
    {
     "data": {
      "image/png": "[encoded data removed]",
      "text/plain": [
       "<Figure size 640x480 with 1 Axes>"
      ]
     },
     "metadata": {},
     "output_type": "display_data"
    }
   ],
   "source": [
    "_40.plot.bar()"
   ]
  },
  {
   "cell_type": "code",
   "execution_count": 42,
   "id": "0f567f97",
   "metadata": {},
   "outputs": [
    {
     "data": {
      "text/plain": [
       "<Axes: xlabel='fecha_concesion'>"
      ]
     },
     "execution_count": 42,
     "metadata": {},
     "output_type": "execute_result"
    },
    {
     "data": {
      "image/png": "[encoded data removed]",
      "text/plain": [
       "<Figure size 640x480 with 1 Axes>"
      ]
     },
     "metadata": {},
     "output_type": "display_data"
    }
   ],
   "source": [
    "(\n",
    "    df.set_index(\"fecha_concesion\")\n",
    "    .resample(\"M\")[\"importe\"].sum()\n",
    "    .plot()\n",
    ")"
   ]
  },
  {
   "cell_type": "code",
   "execution_count": 48,
   "id": "843aa8cb",
   "metadata": {},
   "outputs": [],
   "source": [
    "import matplotlib.pyplot as plt"
   ]
  },
  {
   "cell_type": "code",
   "execution_count": 47,
   "id": "9012e641",
   "metadata": {},
   "outputs": [],
   "source": [
    "dfs = {}\n",
    "for nombre_instrumento in df[\"instrumento\"].unique():\n",
    "    dfs[nombre_instrumento] = (\n",
    "        df.loc[df[\"instrumento\"] == nombre_instrumento]\n",
    "    )"
   ]
  },
  {
   "cell_type": "code",
   "execution_count": 51,
   "id": "06ee90b8",
   "metadata": {},
   "outputs": [
    {
     "data": {
      "text/plain": [
       "<matplotlib.legend.Legend at 0x2aa21aad0>"
      ]
     },
     "execution_count": 51,
     "metadata": {},
     "output_type": "execute_result"
    },
    {
     "data": {
      "image/png": "[encoded data removed]",
      "text/plain": [
       "<Figure size 640x480 with 1 Axes>"
      ]
     },
     "metadata": {},
     "output_type": "display_data"
    }
   ],
   "source": [
    "fig, ax = plt.subplots()\n",
    "\n",
    "for nombre_instrumento, df_instrumento in dfs.items():\n",
    "    (\n",
    "        df_instrumento.set_index(\"fecha_concesion\")\n",
    "        .resample(\"M\")\n",
    "        [\"importe\"].sum()\n",
    "        .plot(ax=ax, label=nombre_instrumento)\n",
    "    )\n",
    "\n",
    "ax.legend()"
   ]
  },
  {
   "cell_type": "code",
   "execution_count": 52,
   "id": "a1ee8e63",
   "metadata": {},
   "outputs": [
    {
     "data": {
      "text/plain": [
       "instrumento\n",
       "OTROS INSTRUMENTOS DE AYUDA                             1.066160e+08\n",
       "VENTAJA FISCAL                                          1.604642e+09\n",
       "PRÉSTAMOS                                               6.886003e+09\n",
       "SUBVENCIÓN Y ENTREGA DINERARIA SIN CONTRAPRESTACIÓN     7.906257e+10\n",
       "GARANTÍA                                                9.394452e+10\n",
       "Name: importe, dtype: float64"
      ]
     },
     "execution_count": 52,
     "metadata": {},
     "output_type": "execute_result"
    }
   ],
   "source": [
    "df.groupby(\"instrumento\")[\"importe\"].sum().sort_values()"
   ]
  },
  {
   "cell_type": "code",
   "execution_count": 55,
   "id": "786cbd89",
   "metadata": {},
   "outputs": [
    {
     "data": {
      "text/plain": [
       "beneficiario\n",
       "Q4618001D UNIVERSITAT DE VALENCIA (ESTUDI GENERAL DE VALENCIA)                               1.481605e+09\n",
       "Q4618002B UNIVERSIDAD POLITECNICA DE VALENCIA-MINISTERIO DE UNIVERSIDADES E INVESTIGACION    1.234546e+09\n",
       "S2827001E Mº SANIDAD CONSUMO Y BIENESTAR SOCIAL                                              8.667116e+08\n",
       "Q2866001G CRUZ ROJA ESPAÑOLA                                                                 7.908705e+08\n",
       "A28017895 EL CORTE INGLES, S.A.                                                              7.180400e+08\n",
       "Q3018001B UNIVERSIDAD DE MURCIA                                                              7.100083e+08\n",
       "A63422141 VUELING AIRLINES S.A.                                                              6.536450e+08\n",
       "A38666897 BINTER CANARIAS S.A.                                                               6.377104e+08\n",
       "A85850394 IBERIA LINEAS AEREAS DE ESPAÑA SA OPERADORA                                        6.156000e+08\n",
       "Q2818002D AGENCIA ESTATAL CONSEJO SUPERIOR DE INVESTIGACIONES CIENTIFICAS (CSIC)             6.068335e+08\n",
       "Name: importe, dtype: float64"
      ]
     },
     "execution_count": 55,
     "metadata": {},
     "output_type": "execute_result"
    }
   ],
   "source": [
    "top_beneficiarios = (\n",
    "    df\n",
    "    .groupby(\"beneficiario\")[\"importe\"].sum()\n",
    "    .nlargest(10)\n",
    ")\n",
    "top_beneficiarios"
   ]
  },
  {
   "cell_type": "code",
   "execution_count": 56,
   "id": "5c6669c1",
   "metadata": {},
   "outputs": [],
   "source": [
    "dfs = {}\n",
    "for nombre_beneficiario in top_beneficiarios.index:\n",
    "    dfs[nombre_beneficiario] = (\n",
    "        df.loc[df[\"beneficiario\"] == nombre_beneficiario]\n",
    "    )"
   ]
  },
  {
   "cell_type": "code",
   "execution_count": 57,
   "id": "aa48c8dc",
   "metadata": {},
   "outputs": [
    {
     "data": {
      "text/plain": [
       "<matplotlib.legend.Legend at 0x40b357d90>"
      ]
     },
     "execution_count": 57,
     "metadata": {},
     "output_type": "execute_result"
    },
    {
     "data": {
      "image/png": "[encoded data removed]",
      "text/plain": [
       "<Figure size 1000x800 with 1 Axes>"
      ]
     },
     "metadata": {},
     "output_type": "display_data"
    }
   ],
   "source": [
    "fig, ax = plt.subplots(figsize=(10, 8))\n",
    "\n",
    "for nombre_beneficiario, df_beneficiario in dfs.items():\n",
    "    (\n",
    "        df_beneficiario.set_index(\"fecha_concesion\")\n",
    "        .resample(\"M\")\n",
    "        [\"importe\"].sum()\n",
    "        .plot(ax=ax, label=nombre_beneficiario)\n",
    "    )\n",
    "\n",
    "ax.legend()"
   ]
  },
  {
   "cell_type": "code",
   "execution_count": 59,
   "id": "0ace6467",
   "metadata": {},
   "outputs": [
    {
     "data": {
      "text/plain": [
       "titulo_convocatoria\n",
       "Avales a financiación a empresas y autónomos del Ministerio de Asuntos Económicos y Transformación Digital para paliar efectos del COVID19. Artículo 29 RDL 8/2020 - gestionados por el ICO                                                      5.357864e+10\n",
       "Avales a financiación a empresas y autónomos concedidos por el Ministerio de Asuntos Económicos y Transformación Digital para paliar efectos del COVID19, gestionados por el ICO por cuenta del Ministerio. Artículo 29 RDL 8/2020.              2.648271e+10\n",
       "Avales a financiación a empresas y autónomos concedidos por el Ministerio de Asuntos Económicos y Transformación Digital para paliar efectos del COVID19, gestionados por el ICO por cuenta del Ministerio. Artículo 1 RDL 25/2020.              5.704274e+09\n",
       "Avales a financiación a empresas y autónomos concedidos por el Ministerio de Asuntos Económicos y Transformación Digital para paliar efectos del COVID19, gestionados por el ICO por cuenta del Ministerio. Artículo 1 RDL 25/2020               4.317753e+09\n",
       "Subvenciones al transporte aéreo para residentes en Canarias, Baleares, Ceuta y Melilla                                                                                                                                                          2.053986e+09\n",
       "AYUDAS OTORGADAS POR EL FONDO DE SOLVENCIA A LAS EMPRESAS ESTRATÉGICAS                                                                                                                                                                           2.028331e+09\n",
       "CONCESIÓN DE LÍNEA COVID DE AYUDAS DIRECTAS A PERSONAS AUTÓNOMAS Y EMPRESAS TITULO I RDL 5_2021                                                                                                                                                  1.028197e+09\n",
       "Convocatoria de Expresiones de Interés para actuaciones relacionadas con el refuerzo de la capacidad de respuesta a la crisis de la COVID-19, ejecutadas por organismos de la AGE en el Programa Operativo Plurirregional de España 2014-2020    9.709166e+08\n",
       "REAFIANZAMIENTO DEL PROGRAMA DE AVALES PARA PYMES 2020 GENERAL                                                                                                                                                                                   9.132801e+08\n",
       "Conv. línea COVID per professionals i empreses RDL 5/2021                                                                                                                                                                                        7.872316e+08\n",
       "Name: importe, dtype: float64"
      ]
     },
     "execution_count": 59,
     "metadata": {},
     "output_type": "execute_result"
    }
   ],
   "source": [
    "df.groupby(\"titulo_convocatoria\")[\"importe\"].sum().nlargest(10)"
   ]
  },
  {
   "cell_type": "code",
   "execution_count": 58,
   "id": "16e2748e",
   "metadata": {},
   "outputs": [
    {
     "data": {
      "text/html": [
       "<div>\n",
       "<style scoped>\n",
       "    .dataframe tbody tr th:only-of-type {\n",
       "        vertical-align: middle;\n",
       "    }\n",
       "\n",
       "    .dataframe tbody tr th {\n",
       "        vertical-align: top;\n",
       "    }\n",
       "\n",
       "    .dataframe thead th {\n",
       "        text-align: right;\n",
       "    }\n",
       "</style>\n",
       "<table border=\"1\" class=\"dataframe\">\n",
       "  <thead>\n",
       "    <tr style=\"text-align: right;\">\n",
       "      <th></th>\n",
       "      <th>id_convocatoria</th>\n",
       "      <th>administracion</th>\n",
       "      <th>departamento</th>\n",
       "      <th>organo</th>\n",
       "      <th>titulo_convocatoria</th>\n",
       "      <th>url_bases_regul</th>\n",
       "      <th>apli_presupuestaria</th>\n",
       "      <th>fecha_concesion</th>\n",
       "      <th>beneficiario</th>\n",
       "      <th>importe</th>\n",
       "      <th>instrumento</th>\n",
       "      <th>ayuda_equivalente</th>\n",
       "      <th>detalles</th>\n",
       "      <th>codigo_bdns</th>\n",
       "      <th>valor_desconocido</th>\n",
       "      <th>id_interna</th>\n",
       "    </tr>\n",
       "    <tr>\n",
       "      <th>id</th>\n",
       "      <th></th>\n",
       "      <th></th>\n",
       "      <th></th>\n",
       "      <th></th>\n",
       "      <th></th>\n",
       "      <th></th>\n",
       "      <th></th>\n",
       "      <th></th>\n",
       "      <th></th>\n",
       "      <th></th>\n",
       "      <th></th>\n",
       "      <th></th>\n",
       "      <th></th>\n",
       "      <th></th>\n",
       "      <th></th>\n",
       "      <th></th>\n",
       "    </tr>\n",
       "  </thead>\n",
       "  <tbody>\n",
       "    <tr>\n",
       "      <th>65045185</th>\n",
       "      <td>811910</td>\n",
       "      <td>COMARCA COMUNIDAD DE TERUEL</td>\n",
       "      <td>COMARCA DE COMUNIDAD DE TERUEL</td>\n",
       "      <td>NaN</td>\n",
       "      <td>CONVOCATORIA DE SUBVENCIONES DESTINADAS A AYUN...</td>\n",
       "      <td>https://236ws.dpteruel.es/estatico/boletines/2...</td>\n",
       "      <td>2022-03-3321-46203</td>\n",
       "      <td>2022-03-24</td>\n",
       "      <td>P4407400C AYUNTAMIENTO DE CEDRILLAS</td>\n",
       "      <td>500.0</td>\n",
       "      <td>SUBVENCIÓN Y ENTREGA DINERARIA SIN CONTRAPREST...</td>\n",
       "      <td>500.0</td>\n",
       "      <td>0</td>\n",
       "      <td>610350</td>\n",
       "      <td>10413793</td>\n",
       "      <td>1</td>\n",
       "    </tr>\n",
       "    <tr>\n",
       "      <th>65045222</th>\n",
       "      <td>811910</td>\n",
       "      <td>COMARCA COMUNIDAD DE TERUEL</td>\n",
       "      <td>COMARCA DE COMUNIDAD DE TERUEL</td>\n",
       "      <td>NaN</td>\n",
       "      <td>CONVOCATORIA DE SUBVENCIONES DESTINADAS A AYUN...</td>\n",
       "      <td>https://236ws.dpteruel.es/estatico/boletines/2...</td>\n",
       "      <td>2022-03-3321-46203</td>\n",
       "      <td>2022-03-24</td>\n",
       "      <td>P4427500F AYUNTAMIENTO DE VILLARQUEMADO</td>\n",
       "      <td>500.0</td>\n",
       "      <td>SUBVENCIÓN Y ENTREGA DINERARIA SIN CONTRAPREST...</td>\n",
       "      <td>500.0</td>\n",
       "      <td>0</td>\n",
       "      <td>610350</td>\n",
       "      <td>10413793</td>\n",
       "      <td>2</td>\n",
       "    </tr>\n",
       "    <tr>\n",
       "      <th>65045266</th>\n",
       "      <td>811910</td>\n",
       "      <td>COMARCA COMUNIDAD DE TERUEL</td>\n",
       "      <td>COMARCA DE COMUNIDAD DE TERUEL</td>\n",
       "      <td>NaN</td>\n",
       "      <td>CONVOCATORIA DE SUBVENCIONES DESTINADAS A AYUN...</td>\n",
       "      <td>https://236ws.dpteruel.es/estatico/boletines/2...</td>\n",
       "      <td>2022-03-3321-46203</td>\n",
       "      <td>2022-03-24</td>\n",
       "      <td>P4422100J AYUNTAMIENTO DE SANTA EULALIA DEL CAMPO</td>\n",
       "      <td>500.0</td>\n",
       "      <td>SUBVENCIÓN Y ENTREGA DINERARIA SIN CONTRAPREST...</td>\n",
       "      <td>500.0</td>\n",
       "      <td>0</td>\n",
       "      <td>610350</td>\n",
       "      <td>10413793</td>\n",
       "      <td>3</td>\n",
       "    </tr>\n",
       "  </tbody>\n",
       "</table>\n",
       "</div>"
      ],
      "text/plain": [
       "          id_convocatoria               administracion   \n",
       "id                                                       \n",
       "65045185           811910  COMARCA COMUNIDAD DE TERUEL  \\\n",
       "65045222           811910  COMARCA COMUNIDAD DE TERUEL   \n",
       "65045266           811910  COMARCA COMUNIDAD DE TERUEL   \n",
       "\n",
       "                            departamento organo   \n",
       "id                                                \n",
       "65045185  COMARCA DE COMUNIDAD DE TERUEL    NaN  \\\n",
       "65045222  COMARCA DE COMUNIDAD DE TERUEL    NaN   \n",
       "65045266  COMARCA DE COMUNIDAD DE TERUEL    NaN   \n",
       "\n",
       "                                        titulo_convocatoria   \n",
       "id                                                            \n",
       "65045185  CONVOCATORIA DE SUBVENCIONES DESTINADAS A AYUN...  \\\n",
       "65045222  CONVOCATORIA DE SUBVENCIONES DESTINADAS A AYUN...   \n",
       "65045266  CONVOCATORIA DE SUBVENCIONES DESTINADAS A AYUN...   \n",
       "\n",
       "                                            url_bases_regul   \n",
       "id                                                            \n",
       "65045185  https://236ws.dpteruel.es/estatico/boletines/2...  \\\n",
       "65045222  https://236ws.dpteruel.es/estatico/boletines/2...   \n",
       "65045266  https://236ws.dpteruel.es/estatico/boletines/2...   \n",
       "\n",
       "         apli_presupuestaria fecha_concesion   \n",
       "id                                             \n",
       "65045185  2022-03-3321-46203      2022-03-24  \\\n",
       "65045222  2022-03-3321-46203      2022-03-24   \n",
       "65045266  2022-03-3321-46203      2022-03-24   \n",
       "\n",
       "                                               beneficiario  importe   \n",
       "id                                                                     \n",
       "65045185                P4407400C AYUNTAMIENTO DE CEDRILLAS    500.0  \\\n",
       "65045222            P4427500F AYUNTAMIENTO DE VILLARQUEMADO    500.0   \n",
       "65045266  P4422100J AYUNTAMIENTO DE SANTA EULALIA DEL CAMPO    500.0   \n",
       "\n",
       "                                                instrumento   \n",
       "id                                                            \n",
       "65045185  SUBVENCIÓN Y ENTREGA DINERARIA SIN CONTRAPREST...  \\\n",
       "65045222  SUBVENCIÓN Y ENTREGA DINERARIA SIN CONTRAPREST...   \n",
       "65045266  SUBVENCIÓN Y ENTREGA DINERARIA SIN CONTRAPREST...   \n",
       "\n",
       "          ayuda_equivalente  detalles codigo_bdns  valor_desconocido   \n",
       "id                                                                     \n",
       "65045185              500.0         0      610350           10413793  \\\n",
       "65045222              500.0         0      610350           10413793   \n",
       "65045266              500.0         0      610350           10413793   \n",
       "\n",
       "          id_interna  \n",
       "id                    \n",
       "65045185           1  \n",
       "65045222           2  \n",
       "65045266           3  "
      ]
     },
     "execution_count": 58,
     "metadata": {},
     "output_type": "execute_result"
    }
   ],
   "source": [
    "df.head(3)"
   ]
  },
  {
   "cell_type": "code",
   "execution_count": 70,
   "id": "ea5edd93",
   "metadata": {},
   "outputs": [
    {
     "name": "stderr",
     "output_type": "stream",
     "text": [
      "/var/folders/r7/ywj0_kvj0mxfkdkx0jrgh73r0000gn/T/ipykernel_13103/3944525424.py:1: DtypeWarning: Columns (1,9) have mixed types. Specify dtype option on import or set low_memory=False.\n",
      "  convocatorias = pd.read_csv(\"files/convocatorias-final.csv\")\n"
     ]
    }
   ],
   "source": [
    "convocatorias = pd.read_csv(\"files/convocatorias-final.csv\")"
   ]
  },
  {
   "cell_type": "code",
   "execution_count": 72,
   "id": "3ba77938",
   "metadata": {},
   "outputs": [
    {
     "data": {
      "text/html": [
       "<div>\n",
       "<style scoped>\n",
       "    .dataframe tbody tr th:only-of-type {\n",
       "        vertical-align: middle;\n",
       "    }\n",
       "\n",
       "    .dataframe tbody tr th {\n",
       "        vertical-align: top;\n",
       "    }\n",
       "\n",
       "    .dataframe thead th {\n",
       "        text-align: right;\n",
       "    }\n",
       "</style>\n",
       "<table border=\"1\" class=\"dataframe\">\n",
       "  <thead>\n",
       "    <tr style=\"text-align: right;\">\n",
       "      <th></th>\n",
       "      <th>id</th>\n",
       "      <th>codigo_bdns</th>\n",
       "      <th>MRR</th>\n",
       "      <th>administracion</th>\n",
       "      <th>departamento</th>\n",
       "      <th>organo</th>\n",
       "      <th>fecha_registro</th>\n",
       "      <th>titulo_convocatoria</th>\n",
       "      <th>url_bases_regul</th>\n",
       "      <th>titulo_cooficial</th>\n",
       "      <th>colDesconocida1</th>\n",
       "      <th>colDesconocida2</th>\n",
       "      <th>colDesconocida3</th>\n",
       "    </tr>\n",
       "  </thead>\n",
       "  <tbody>\n",
       "    <tr>\n",
       "      <th>6514</th>\n",
       "      <td>811910</td>\n",
       "      <td>610350</td>\n",
       "      <td>NO</td>\n",
       "      <td>COMARCA COMUNIDAD DE TERUEL</td>\n",
       "      <td>COMARCA DE COMUNIDAD DE TERUEL</td>\n",
       "      <td>NaN</td>\n",
       "      <td>14/02/2022</td>\n",
       "      <td>CONVOCATORIA DE SUBVENCIONES DESTINADAS A AYUN...</td>\n",
       "      <td>https://236ws.dpteruel.es/estatico/boletines/2...</td>\n",
       "      <td>NaN</td>\n",
       "      <td>NaN</td>\n",
       "      <td>350078</td>\n",
       "      <td>6515</td>\n",
       "    </tr>\n",
       "  </tbody>\n",
       "</table>\n",
       "</div>"
      ],
      "text/plain": [
       "          id codigo_bdns MRR               administracion   \n",
       "6514  811910      610350  NO  COMARCA COMUNIDAD DE TERUEL  \\\n",
       "\n",
       "                        departamento organo fecha_registro   \n",
       "6514  COMARCA DE COMUNIDAD DE TERUEL    NaN     14/02/2022  \\\n",
       "\n",
       "                                    titulo_convocatoria   \n",
       "6514  CONVOCATORIA DE SUBVENCIONES DESTINADAS A AYUN...  \\\n",
       "\n",
       "                                        url_bases_regul titulo_cooficial   \n",
       "6514  https://236ws.dpteruel.es/estatico/boletines/2...              NaN  \\\n",
       "\n",
       "      colDesconocida1  colDesconocida2  colDesconocida3  \n",
       "6514              NaN           350078             6515  "
      ]
     },
     "execution_count": 72,
     "metadata": {},
     "output_type": "execute_result"
    }
   ],
   "source": [
    "convocatorias.loc[convocatorias[\"id\"] == 811910]"
   ]
  },
  {
   "cell_type": "code",
   "execution_count": 60,
   "id": "59645330",
   "metadata": {},
   "outputs": [],
   "source": [
    "archipielagos = (\n",
    "    df.loc[\n",
    "        df[\"titulo_convocatoria\"] == \"Subvenciones al transporte aéreo para residentes en Canarias, Baleares, Ceuta y Melilla\"\n",
    "    ]\n",
    ")"
   ]
  },
  {
   "cell_type": "code",
   "execution_count": 64,
   "id": "d138bf1c",
   "metadata": {},
   "outputs": [
    {
     "data": {
      "text/plain": [
       "beneficiario\n",
       "A38666897 BINTER CANARIAS S.A.                                            6.362447e+08\n",
       "A85850394 IBERIA LAE SA OPERADORA UNIPERSONAL                             4.902709e+08\n",
       "A63422141 VUELING AIRLINES S.A.                                           4.395561e+08\n",
       "A07129430 AIR EUROPA LINEAS AEREAS S.A.U                                  3.576948e+08\n",
       "B76013481 CANARYFLY S.L                                                   5.893983e+07\n",
       "A86312691 COMPAÑÍA OPERADORA DE CORTO Y MEDIO RADIO IBERIA EXPRESS S.A    5.554097e+07\n",
       "B72291503 GLOBAL AERONAUTICS SOLUTIONS CORP., S.L.                        1.246501e+07\n",
       "B64841927 VOLOTEA S.L.                                                    3.242329e+06\n",
       "A78348612 SWIFTAIR SA                                                     1.646222e+04\n",
       "A57797755 EVELOP AIRLINES, S.L.                                           1.412651e+04\n",
       "Name: importe, dtype: float64"
      ]
     },
     "execution_count": 64,
     "metadata": {},
     "output_type": "execute_result"
    }
   ],
   "source": [
    "archipielagos.groupby(\"beneficiario\")[\"importe\"].sum().nlargest(10)"
   ]
  },
  {
   "cell_type": "code",
   "execution_count": 65,
   "id": "524153fd",
   "metadata": {},
   "outputs": [
    {
     "data": {
      "text/plain": [
       "organo\n",
       "DIRECCIÓN GENERAL DE AVIACIÓN CIVIL    2.053986e+09\n",
       "Name: importe, dtype: float64"
      ]
     },
     "execution_count": 65,
     "metadata": {},
     "output_type": "execute_result"
    }
   ],
   "source": [
    "archipielagos.groupby(\"organo\")[\"importe\"].sum().nlargest(10)"
   ]
  },
  {
   "cell_type": "code",
   "execution_count": 66,
   "id": "398110ec",
   "metadata": {},
   "outputs": [
    {
     "data": {
      "text/plain": [
       "instrumento\n",
       "SUBVENCIÓN Y ENTREGA DINERARIA SIN CONTRAPRESTACIÓN     2.053986e+09\n",
       "Name: importe, dtype: float64"
      ]
     },
     "execution_count": 66,
     "metadata": {},
     "output_type": "execute_result"
    }
   ],
   "source": [
    "archipielagos.groupby(\"instrumento\")[\"importe\"].sum().nlargest(10)"
   ]
  },
  {
   "cell_type": "code",
   "execution_count": 67,
   "id": "16296319",
   "metadata": {},
   "outputs": [
    {
     "data": {
      "text/plain": [
       "administracion\n",
       "ESTADO    2.053986e+09\n",
       "Name: importe, dtype: float64"
      ]
     },
     "execution_count": 67,
     "metadata": {},
     "output_type": "execute_result"
    }
   ],
   "source": [
    "archipielagos.groupby(\"administracion\")[\"importe\"].sum().nlargest(10)"
   ]
  },
  {
   "cell_type": "code",
   "execution_count": 63,
   "id": "a8e0da79",
   "metadata": {},
   "outputs": [
    {
     "data": {
      "text/plain": [
       "<Axes: xlabel='fecha_concesion'>"
      ]
     },
     "execution_count": 63,
     "metadata": {},
     "output_type": "execute_result"
    },
    {
     "data": {
      "image/png": "[encoded data removed]",
      "text/plain": [
       "<Figure size 640x480 with 1 Axes>"
      ]
     },
     "metadata": {},
     "output_type": "display_data"
    }
   ],
   "source": [
    "(\n",
    "    archipielagos\n",
    "    .set_index(\"fecha_concesion\")\n",
    "    .resample(\"M\")[\"importe\"].sum()\n",
    "    .plot()\n",
    ")"
   ]
  },
  {
   "cell_type": "code",
   "execution_count": null,
   "id": "b72a1b2d",
   "metadata": {},
   "outputs": [],
   "source": []
  }
 ],
 "metadata": {
  "kernelspec": {
   "display_name": "Python 3 (ipykernel)",
   "language": "python",
   "name": "python3"
  },
  "language_info": {
   "codemirror_mode": {
    "name": "ipython",
    "version": 3
   },
   "file_extension": ".py",
   "mimetype": "text/x-python",
   "name": "python",
   "nbconvert_exporter": "python",
   "pygments_lexer": "ipython3",
   "version": "3.11.2"
  }
 },
 "nbformat": 4,
 "nbformat_minor": 5
}

{
 "cells": [
  {
   "cell_type": "code",
   "execution_count": 1,
   "id": "01784ca7-5b0e-4292-a491-5dacd1eab5f1",
   "metadata": {},
   "outputs": [],
   "source": [
    "import datetime as dt\n",
    "\n",
    "import pandas as pd"
   ]
  },
  {
   "cell_type": "code",
   "execution_count": 4,
   "id": "aebeebe5-434f-42fa-a63b-9d3df736745b",
   "metadata": {},
   "outputs": [
    {
     "name": "stdout",
     "output_type": "stream",
     "text": [
      "id,codigo_bdns,MRR,administracion,departamento,organo,fecha_registro,titulo_convocatoria,url_bases_regul,titulo_cooficial,colDesconocida1,colDesconocida2,colDesconocida3\r\n",
      "819060,\"617500\",\"NO\",\"DIPUTACIÓN PROV. DE JAÉN\",\"DIPUTACIÓN PROVINCIAL DE JAÉN\",,\"25/03/2022\",\"ADQUISICION DE MOBILIARIO PARA EDIFICIO AULAS DE NATURALEZA\",\"https://www.dipujaen.es/portal-de-transparencia/economica-financiera\",,,350078,1\r\n",
      "819059,\"617499\",\"NO\",\"REGIÓN DE MURCIA\",\"INSTITUTO MURCIANO DE ACCION SOCIAL (I.M.A.S.)\",,\"25/03/2022\",\"MANCOMUNIDAD RIO MULA MANTENIMIENTO CENTRO ATENCIÓN TEMPRANA\",\"https://www.borm.es/services/anuncio/ano/2022/numero/310/pdf?id=799320\",,,350078,2\r\n",
      "819058,\"617498\",\"NO\",\"ONDA\",\"AYUNTAMIENTO DE ONDA\",,\"25/03/2022\",\"Convenio de colaboración entre el Ayuntamiento de Onda y el Club Deportivo Onda\",\"https://www.onda.es/ond/web_php/index.php?contenido=subapartados_woden&id_boto=355\",,,350078,3\r\n",
      "819057,\"617497\",\"NO\",\"TORRENT\",\"AYUNTAMIENTO DE TORRENT\",,\"25/03/2022\",\"SUBVENCION DIRECTA VARIOS ENTES 2020\",\"https://www.torrent.es/torrentPublic/inicio/serveis/ajudessubvencions.html\",,,350078,4\r\n"
     ]
    }
   ],
   "source": [
    "!head -n5 ../files/convocatorias_final.csv"
   ]
  },
  {
   "cell_type": "code",
   "execution_count": 14,
   "id": "5871d877",
   "metadata": {},
   "outputs": [
    {
     "data": {
      "text/html": [
       "<div>\n",
       "<style scoped>\n",
       "    .dataframe tbody tr th:only-of-type {\n",
       "        vertical-align: middle;\n",
       "    }\n",
       "\n",
       "    .dataframe tbody tr th {\n",
       "        vertical-align: top;\n",
       "    }\n",
       "\n",
       "    .dataframe thead th {\n",
       "        text-align: right;\n",
       "    }\n",
       "</style>\n",
       "<table border=\"1\" class=\"dataframe\">\n",
       "  <thead>\n",
       "    <tr style=\"text-align: right;\">\n",
       "      <th></th>\n",
       "      <th>codigo_bdns</th>\n",
       "      <th>MRR</th>\n",
       "      <th>administracion</th>\n",
       "      <th>departamento</th>\n",
       "      <th>organo</th>\n",
       "      <th>fecha_registro</th>\n",
       "      <th>titulo_convocatoria</th>\n",
       "      <th>url_bases_regul</th>\n",
       "      <th>titulo_cooficial</th>\n",
       "    </tr>\n",
       "    <tr>\n",
       "      <th>id</th>\n",
       "      <th></th>\n",
       "      <th></th>\n",
       "      <th></th>\n",
       "      <th></th>\n",
       "      <th></th>\n",
       "      <th></th>\n",
       "      <th></th>\n",
       "      <th></th>\n",
       "      <th></th>\n",
       "    </tr>\n",
       "  </thead>\n",
       "  <tbody>\n",
       "    <tr>\n",
       "      <th>691727</th>\n",
       "      <td>490167</td>\n",
       "      <td>NO</td>\n",
       "      <td>SANT MATEU DE BAGES</td>\n",
       "      <td>AYUNTAMIENTO DE SANT MATEU DE BAGES</td>\n",
       "      <td>NaN</td>\n",
       "      <td>2020-01-01</td>\n",
       "      <td>APORTACIO GRUP MUNICIPAL CIU</td>\n",
       "      <td>https://bop.diba.cat/scripts/fpisa.aspx?fnew?b...</td>\n",
       "      <td>NaN</td>\n",
       "    </tr>\n",
       "    <tr>\n",
       "      <th>744765</th>\n",
       "      <td>543205</td>\n",
       "      <td>NO</td>\n",
       "      <td>PRINCIPADO DE ASTURIAS</td>\n",
       "      <td>CONSEJERÍA DE EDUCACIÓN</td>\n",
       "      <td>NaN</td>\n",
       "      <td>2021-01-01</td>\n",
       "      <td>Subvencion directa a centros concertados para...</td>\n",
       "      <td>Subvencion directa a centros concertados para ...</td>\n",
       "      <td>NaN</td>\n",
       "    </tr>\n",
       "    <tr>\n",
       "      <th>805816</th>\n",
       "      <td>604256</td>\n",
       "      <td>NO</td>\n",
       "      <td>HIGUERA LA REAL</td>\n",
       "      <td>AYUNTAMIENTO DE HIGUERA LA REAL</td>\n",
       "      <td>NaN</td>\n",
       "      <td>2022-01-01</td>\n",
       "      <td>AYUDAS ECONÓMICAS POR NACIMIENTO O ADOPCIÓN DE...</td>\n",
       "      <td>https://www.dip-badajoz.es/bop/ventana_anuncio...</td>\n",
       "      <td>NaN</td>\n",
       "    </tr>\n",
       "    <tr>\n",
       "      <th>502422</th>\n",
       "      <td>300874</td>\n",
       "      <td>NO</td>\n",
       "      <td>SANTA EULÀRIA DES RIU</td>\n",
       "      <td>AYUNTAMIENTO DE SANTA EULÀRIA DES RIU</td>\n",
       "      <td>NaN</td>\n",
       "      <td>2016-02-01</td>\n",
       "      <td>CONVOCATORIA INSTRUMENTAL-ESCUELA MUNICIPAL DE...</td>\n",
       "      <td>http://www.caib.es/eboibfront/es/2015/10232/55...</td>\n",
       "      <td>NaN</td>\n",
       "    </tr>\n",
       "    <tr>\n",
       "      <th>502423</th>\n",
       "      <td>300875</td>\n",
       "      <td>NO</td>\n",
       "      <td>SANTA EULÀRIA DES RIU</td>\n",
       "      <td>AYUNTAMIENTO DE SANTA EULÀRIA DES RIU</td>\n",
       "      <td>NaN</td>\n",
       "      <td>2016-02-01</td>\n",
       "      <td>CONVOCATORIA INSTRUMENTAL-ESCUELA MUNICIPAL DE...</td>\n",
       "      <td>http://www.caib.es/eboibfront/es/2015/10232/55...</td>\n",
       "      <td>NaN</td>\n",
       "    </tr>\n",
       "  </tbody>\n",
       "</table>\n",
       "</div>"
      ],
      "text/plain": [
       "       codigo_bdns MRR          administracion   \n",
       "id                                               \n",
       "691727      490167  NO     SANT MATEU DE BAGES  \\\n",
       "744765      543205  NO  PRINCIPADO DE ASTURIAS   \n",
       "805816      604256  NO         HIGUERA LA REAL   \n",
       "502422      300874  NO   SANTA EULÀRIA DES RIU   \n",
       "502423      300875  NO   SANTA EULÀRIA DES RIU   \n",
       "\n",
       "                                 departamento organo fecha_registro   \n",
       "id                                                                    \n",
       "691727    AYUNTAMIENTO DE SANT MATEU DE BAGES    NaN     2020-01-01  \\\n",
       "744765                CONSEJERÍA DE EDUCACIÓN    NaN     2021-01-01   \n",
       "805816        AYUNTAMIENTO DE HIGUERA LA REAL    NaN     2022-01-01   \n",
       "502422  AYUNTAMIENTO DE SANTA EULÀRIA DES RIU    NaN     2016-02-01   \n",
       "502423  AYUNTAMIENTO DE SANTA EULÀRIA DES RIU    NaN     2016-02-01   \n",
       "\n",
       "                                      titulo_convocatoria   \n",
       "id                                                          \n",
       "691727                       APORTACIO GRUP MUNICIPAL CIU  \\\n",
       "744765   Subvencion directa a centros concertados para...   \n",
       "805816  AYUDAS ECONÓMICAS POR NACIMIENTO O ADOPCIÓN DE...   \n",
       "502422  CONVOCATORIA INSTRUMENTAL-ESCUELA MUNICIPAL DE...   \n",
       "502423  CONVOCATORIA INSTRUMENTAL-ESCUELA MUNICIPAL DE...   \n",
       "\n",
       "                                          url_bases_regul titulo_cooficial  \n",
       "id                                                                          \n",
       "691727  https://bop.diba.cat/scripts/fpisa.aspx?fnew?b...              NaN  \n",
       "744765  Subvencion directa a centros concertados para ...              NaN  \n",
       "805816  https://www.dip-badajoz.es/bop/ventana_anuncio...              NaN  \n",
       "502422  http://www.caib.es/eboibfront/es/2015/10232/55...              NaN  \n",
       "502423  http://www.caib.es/eboibfront/es/2015/10232/55...              NaN  "
      ]
     },
     "execution_count": 14,
     "metadata": {},
     "output_type": "execute_result"
    }
   ],
   "source": [
    "df = pd.read_csv(\n",
    "    \"../files/convocatorias_final.csv\",\n",
    "    index_col=\"id\",\n",
    "    dtype={\n",
    "        \"codigo_bdns\": str,\n",
    "        \"MRR\": \"category\",\n",
    "        \"titulo_cooficial\": str,\n",
    "    },\n",
    ").sort_values(\"fecha_registro\")\n",
    "df[\"fecha_registro\"] = pd.to_datetime(df[\"fecha_registro\"], format=\"%d/%m/%Y\")\n",
    "df = df.drop(columns=[f\"colDesconocida{idx}\" for idx in range(1, 4)])\n",
    "df.head()"
   ]
  },
  {
   "cell_type": "code",
   "execution_count": 15,
   "id": "f4fc0be9-6cae-4f2b-b33b-cb04bba1fa5a",
   "metadata": {},
   "outputs": [
    {
     "data": {
      "text/plain": [
       "350078"
      ]
     },
     "execution_count": 15,
     "metadata": {},
     "output_type": "execute_result"
    }
   ],
   "source": [
    "len(df)"
   ]
  },
  {
   "cell_type": "code",
   "execution_count": 16,
   "id": "4b1e24a6",
   "metadata": {},
   "outputs": [
    {
     "data": {
      "text/plain": [
       "codigo_bdns                    object\n",
       "MRR                          category\n",
       "administracion                 object\n",
       "departamento                   object\n",
       "organo                         object\n",
       "fecha_registro         datetime64[ns]\n",
       "titulo_convocatoria            object\n",
       "url_bases_regul                object\n",
       "titulo_cooficial               object\n",
       "dtype: object"
      ]
     },
     "execution_count": 16,
     "metadata": {},
     "output_type": "execute_result"
    }
   ],
   "source": [
    "df.dtypes"
   ]
  },
  {
   "cell_type": "markdown",
   "id": "3c34c974-d46b-45a2-aa5a-22002aef61f5",
   "metadata": {},
   "source": [
    "## Enlaces vacíos o incorrectos"
   ]
  },
  {
   "cell_type": "markdown",
   "id": "7a7fd747-09c8-4018-ba96-1d12acf90c15",
   "metadata": {},
   "source": [
    "En la columna \"Link\" hay varios valores que en realidad están vacíos:"
   ]
  },
  {
   "cell_type": "code",
   "execution_count": 7,
   "id": "c927f843-565e-48ec-a941-4722b802672c",
   "metadata": {},
   "outputs": [
    {
     "data": {
      "text/plain": [
       "Información no disponible en BDNS2007    45765\n",
       "No disponible                             1979\n",
       "NO DISPONIBLE                              641\n",
       "no tiene                                   401\n",
       "BR INEXISTENTES                            273\n",
       "No tiene                                   220\n",
       "NON TEN                                    194\n",
       "BR. INEXISTENTES                           186\n",
       "No procede                                 120\n",
       "Name: Link, dtype: int64"
      ]
     },
     "execution_count": 7,
     "metadata": {},
     "output_type": "execute_result"
    }
   ],
   "source": [
    "df.loc[\n",
    "    ~df[\"Link\"].str.lower().str.contains(\"^http|www\", na=False), \"Link\"\n",
    "].value_counts().nlargest(9)"
   ]
  },
  {
   "cell_type": "markdown",
   "id": "5f682683-c840-4667-97b0-08267aed3ed8",
   "metadata": {},
   "source": [
    "Recopilamos varios y los reemplazamos por `None`:"
   ]
  },
  {
   "cell_type": "code",
   "execution_count": 8,
   "id": "49f03ae4-453f-4111-9364-5e8751a4ce4e",
   "metadata": {},
   "outputs": [],
   "source": [
    "links_vacios = [\n",
    "    \"información no disponible en bdns2007\",\n",
    "    \"no disponible\",\n",
    "    \"no disponible\",\n",
    "    \"no tiene\",\n",
    "    \"br inexistentes\",\n",
    "    \"no tiene\",\n",
    "    \"non ten\",\n",
    "    \"br. inexistentes\",\n",
    "    \"no procede\",\n",
    "    \"no publicable\",\n",
    "    \"sufragar gastos generales\",\n",
    "    \"no aplicable\",\n",
    "    \"no disponible\",\n",
    "    \".\",\n",
    "    \"no tiene\",\n",
    "    \"pendiente de publicación\",\n",
    "    \"-\",\n",
    "    \"información no disponible\",\n",
    "    \"no existe\",\n",
    "    \"no hay\",\n",
    "    \"no dispone\",\n",
    "    \"no\",\n",
    "    \"no disponible en bdns\",\n",
    "]"
   ]
  },
  {
   "cell_type": "code",
   "execution_count": 9,
   "id": "16bc241d-772a-474f-bda8-a56dd83686cb",
   "metadata": {},
   "outputs": [],
   "source": [
    "df[\"Link\"] = df[\"Link\"].str.lower().str.strip().replace(links_vacios, None)"
   ]
  },
  {
   "cell_type": "markdown",
   "id": "27b85de3-ee71-48fc-b6a3-c6fbdf8b2afe",
   "metadata": {},
   "source": [
    "Siguen quedando cosas raras:"
   ]
  },
  {
   "cell_type": "code",
   "execution_count": 10,
   "id": "214f4c22-c0a9-4808-bc1b-331f659ea1b4",
   "metadata": {},
   "outputs": [
    {
     "data": {
      "text/plain": [
       "aytolalaguna.es                                                                                           138\n",
       "file:///c:/users/in_belen/downloads/boletin_20190513.pdf                                                   74\n",
       "sede.teguise.es/public/trans/indicador.aspx?idindicador=132&idindice=gcan                                  46\n",
       "material inventariable                                                                                     43\n",
       "dd/mm/aa                                                                                                   41\n",
       "sede llerena                                                                                               39\n",
       "español                                                                                                    37\n",
       "file:///c:/users/ilg154/desktop/ordenanza%20municipal%20reguladora%20concesion%20de%20subvenciones.pdf     35\n",
       "equipos municipales especializados atención infancia y familia                                             34\n",
       "eadmin.vallehermosoweb.es                                                                                  33\n",
       "ww.xunta.gal                                                                                               31\n",
       "equipo municipal especializado atención infancia y familia                                                 31\n",
       "ayto-castrillon.es/attachments/article/287/bopa_20060220.pdf                                               30\n",
       "sede.cee.gal                                                                                               29\n",
       "convenio                                                                                                   29\n",
       "0917                                                                                                       28\n",
       "gastos generales                                                                                           28\n",
       "donemiliaga.org                                                                                            27\n",
       "presupuesto ayuntamiento de pilas 2020..                                                                   26\n",
       "sufragar gastos de la compra de material inventariable                                                     25\n",
       "Name: Link, dtype: int64"
      ]
     },
     "execution_count": 10,
     "metadata": {},
     "output_type": "execute_result"
    }
   ],
   "source": [
    "df.loc[\n",
    "    ~df[\"Link\"].str.lower().str.contains(\"^http|www\", na=False), \"Link\"\n",
    "].str.lower().value_counts().nlargest(20)"
   ]
  },
  {
   "cell_type": "markdown",
   "id": "175c0ddc-b1bf-4e48-ba57-5789f8916344",
   "metadata": {},
   "source": [
    "## Análisis exploratorio básico"
   ]
  },
  {
   "cell_type": "code",
   "execution_count": 11,
   "id": "550af620-5635-4d78-a11e-c235e5fd00f1",
   "metadata": {},
   "outputs": [
    {
     "data": {
      "text/plain": [
       "<AxesSubplot:>"
      ]
     },
     "execution_count": 11,
     "metadata": {},
     "output_type": "execute_result"
    },
    {
     "data": {
      "image/png": "[encoded data removed]",
      "text/plain": [
       "<Figure size 1800x720 with 2 Axes>"
      ]
     },
     "metadata": {
      "needs_background": "light"
     },
     "output_type": "display_data"
    }
   ],
   "source": [
    "import missingno as msno\n",
    "\n",
    "msno.matrix(df)"
   ]
  },
  {
   "cell_type": "code",
   "execution_count": 12,
   "id": "a2d03696-2936-4c2d-bc9c-e6984fe3eb16",
   "metadata": {},
   "outputs": [
    {
     "data": {
      "text/plain": [
       "NO    349584\n",
       "SI       494\n",
       "Name: MRR, dtype: int64"
      ]
     },
     "execution_count": 12,
     "metadata": {},
     "output_type": "execute_result"
    }
   ],
   "source": [
    "df[\"MRR\"].value_counts()"
   ]
  },
  {
   "cell_type": "code",
   "execution_count": 13,
   "id": "3fa15380-148f-4477-8adc-f26e73de6477",
   "metadata": {},
   "outputs": [
    {
     "data": {
      "text/plain": [
       "count                              494\n",
       "mean     2021-11-13 16:42:45.182186240\n",
       "min                2020-05-02 00:00:00\n",
       "25%                2021-10-05 12:00:00\n",
       "50%                2021-12-21 00:00:00\n",
       "75%                2022-01-14 00:00:00\n",
       "max                2022-03-24 00:00:00\n",
       "Name: Fecha de registro, dtype: object"
      ]
     },
     "execution_count": 13,
     "metadata": {},
     "output_type": "execute_result"
    }
   ],
   "source": [
    "df.loc[df[\"MRR\"] == \"SI\", \"Fecha de registro\"].describe(datetime_is_numeric=True)"
   ]
  },
  {
   "cell_type": "code",
   "execution_count": 14,
   "id": "ed0c09b5-9dcc-4e68-a2e4-782d95a7ec63",
   "metadata": {},
   "outputs": [
    {
     "data": {
      "text/html": [
       "<div>\n",
       "<style scoped>\n",
       "    .dataframe tbody tr th:only-of-type {\n",
       "        vertical-align: middle;\n",
       "    }\n",
       "\n",
       "    .dataframe tbody tr th {\n",
       "        vertical-align: top;\n",
       "    }\n",
       "\n",
       "    .dataframe thead th {\n",
       "        text-align: right;\n",
       "    }\n",
       "</style>\n",
       "<table border=\"1\" class=\"dataframe\">\n",
       "  <thead>\n",
       "    <tr style=\"text-align: right;\">\n",
       "      <th></th>\n",
       "      <th>Fecha de registro</th>\n",
       "      <th>Link</th>\n",
       "    </tr>\n",
       "    <tr>\n",
       "      <th>ID</th>\n",
       "      <th></th>\n",
       "      <th></th>\n",
       "    </tr>\n",
       "  </thead>\n",
       "  <tbody>\n",
       "    <tr>\n",
       "      <th>76886</th>\n",
       "      <td>2010-10-18</td>\n",
       "      <td>www.juntadeandalucia.es/boja</td>\n",
       "    </tr>\n",
       "    <tr>\n",
       "      <th>100745</th>\n",
       "      <td>2011-05-28</td>\n",
       "      <td>http://www.ayto-torrejon.es/intranet/mipaginad...</td>\n",
       "    </tr>\n",
       "    <tr>\n",
       "      <th>104951</th>\n",
       "      <td>2011-09-23</td>\n",
       "      <td>https://www.boe.es/boe/dias/2006/04/22/pdfs/a1...</td>\n",
       "    </tr>\n",
       "    <tr>\n",
       "      <th>14199</th>\n",
       "      <td>2011-09-29</td>\n",
       "      <td>http://www.boe.es/boe/dias/1993/05/04/pdfs/a13...</td>\n",
       "    </tr>\n",
       "    <tr>\n",
       "      <th>102677</th>\n",
       "      <td>2011-10-05</td>\n",
       "      <td>https://www.boe.es/boe/dias/1998/11/21/pdfs/a3...</td>\n",
       "    </tr>\n",
       "  </tbody>\n",
       "</table>\n",
       "</div>"
      ],
      "text/plain": [
       "       Fecha de registro                                               Link\n",
       "ID                                                                         \n",
       "76886         2010-10-18                       www.juntadeandalucia.es/boja\n",
       "100745        2011-05-28  http://www.ayto-torrejon.es/intranet/mipaginad...\n",
       "104951        2011-09-23  https://www.boe.es/boe/dias/2006/04/22/pdfs/a1...\n",
       "14199         2011-09-29  http://www.boe.es/boe/dias/1993/05/04/pdfs/a13...\n",
       "102677        2011-10-05  https://www.boe.es/boe/dias/1998/11/21/pdfs/a3..."
      ]
     },
     "execution_count": 14,
     "metadata": {},
     "output_type": "execute_result"
    }
   ],
   "source": [
    "df.loc[~df[\"Link\"].isnull(), [\"Fecha de registro\", \"Link\"]].head()"
   ]
  },
  {
   "cell_type": "code",
   "execution_count": 15,
   "id": "7b617adc-390c-4723-984c-fbda28873b3c",
   "metadata": {},
   "outputs": [
    {
     "data": {
      "text/plain": [
       "0.05128285696330532"
      ]
     },
     "execution_count": 15,
     "metadata": {},
     "output_type": "execute_result"
    }
   ],
   "source": [
    "len(df.loc[~df[\"Título cooficial\"].isnull()]) / len(df)"
   ]
  },
  {
   "cell_type": "markdown",
   "id": "895c5828-8fab-4013-bb38-cecade34491d",
   "metadata": {},
   "source": [
    "**Resumen:**\n",
    "\n",
    "- Parece que el `Órgano` se ponía al principio, pero después casi nunca\n",
    "- Solo hay dos valores para `MRR`: `SI` y `NO`, pero las convocatorias con `MRR` solo existen de mayo de 2020 en adelante\n",
    "- Con `Link` pasa al contrario: las convocatorias antes de ~2011 no tienen\n",
    "- Solo un 5 % de las convocatorias tiene `Título cooficial`"
   ]
  }
 ],
 "metadata": {
  "kernelspec": {
   "display_name": "Python 3 (ipykernel)",
   "language": "python",
   "name": "python3"
  },
  "language_info": {
   "codemirror_mode": {
    "name": "ipython",
    "version": 3
   },
   "file_extension": ".py",
   "mimetype": "text/x-python",
   "name": "python",
   "nbconvert_exporter": "python",
   "pygments_lexer": "ipython3",
   "version": "3.11.2"
  }
 },
 "nbformat": 4,
 "nbformat_minor": 5
}
